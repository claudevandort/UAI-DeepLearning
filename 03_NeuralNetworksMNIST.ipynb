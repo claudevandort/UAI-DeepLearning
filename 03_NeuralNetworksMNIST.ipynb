{
  "nbformat": 4,
  "nbformat_minor": 0,
  "metadata": {
    "celltoolbar": "Slideshow",
    "colab": {
      "name": "03_NeuralNetworksMNIST.ipynb",
      "provenance": [],
      "collapsed_sections": [],
      "include_colab_link": true
    },
    "kernelspec": {
      "display_name": "Python 3",
      "language": "python",
      "name": "python3"
    },
    "language_info": {
      "codemirror_mode": {
        "name": "ipython",
        "version": 3
      },
      "file_extension": ".py",
      "mimetype": "text/x-python",
      "name": "python",
      "nbconvert_exporter": "python",
      "pygments_lexer": "ipython3",
      "version": "3.7.9"
    },
    "widgets": {
      "application/vnd.jupyter.widget-state+json": {
        "1e159a80f51642289c6502850f4282ed": {
          "model_module": "@jupyter-widgets/controls",
          "model_name": "HBoxModel",
          "state": {
            "_view_name": "HBoxView",
            "_dom_classes": [],
            "_model_name": "HBoxModel",
            "_view_module": "@jupyter-widgets/controls",
            "_model_module_version": "1.5.0",
            "_view_count": null,
            "_view_module_version": "1.5.0",
            "box_style": "",
            "layout": "IPY_MODEL_c36c0e4fb49d458b9e87446996004eca",
            "_model_module": "@jupyter-widgets/controls",
            "children": [
              "IPY_MODEL_6e8f45de8a3a450a87dcfe4499fb1255",
              "IPY_MODEL_1c00648296604271b18722802e27cbb2"
            ]
          }
        },
        "c36c0e4fb49d458b9e87446996004eca": {
          "model_module": "@jupyter-widgets/base",
          "model_name": "LayoutModel",
          "state": {
            "_view_name": "LayoutView",
            "grid_template_rows": null,
            "right": null,
            "justify_content": null,
            "_view_module": "@jupyter-widgets/base",
            "overflow": null,
            "_model_module_version": "1.2.0",
            "_view_count": null,
            "flex_flow": null,
            "width": null,
            "min_width": null,
            "border": null,
            "align_items": null,
            "bottom": null,
            "_model_module": "@jupyter-widgets/base",
            "top": null,
            "grid_column": null,
            "overflow_y": null,
            "overflow_x": null,
            "grid_auto_flow": null,
            "grid_area": null,
            "grid_template_columns": null,
            "flex": null,
            "_model_name": "LayoutModel",
            "justify_items": null,
            "grid_row": null,
            "max_height": null,
            "align_content": null,
            "visibility": null,
            "align_self": null,
            "height": null,
            "min_height": null,
            "padding": null,
            "grid_auto_rows": null,
            "grid_gap": null,
            "max_width": null,
            "order": null,
            "_view_module_version": "1.2.0",
            "grid_template_areas": null,
            "object_position": null,
            "object_fit": null,
            "grid_auto_columns": null,
            "margin": null,
            "display": null,
            "left": null
          }
        },
        "6e8f45de8a3a450a87dcfe4499fb1255": {
          "model_module": "@jupyter-widgets/controls",
          "model_name": "FloatProgressModel",
          "state": {
            "_view_name": "ProgressView",
            "style": "IPY_MODEL_72dd0e5bac0f4219817de6f57a863d45",
            "_dom_classes": [],
            "description": "",
            "_model_name": "FloatProgressModel",
            "bar_style": "success",
            "max": 9912422,
            "_view_module": "@jupyter-widgets/controls",
            "_model_module_version": "1.5.0",
            "value": 9912422,
            "_view_count": null,
            "_view_module_version": "1.5.0",
            "orientation": "horizontal",
            "min": 0,
            "description_tooltip": null,
            "_model_module": "@jupyter-widgets/controls",
            "layout": "IPY_MODEL_71e9753bde914846b96dfc7a8e6842f8"
          }
        },
        "1c00648296604271b18722802e27cbb2": {
          "model_module": "@jupyter-widgets/controls",
          "model_name": "HTMLModel",
          "state": {
            "_view_name": "HTMLView",
            "style": "IPY_MODEL_99c0cdfc6ebb41b4a6aed72f13648cea",
            "_dom_classes": [],
            "description": "",
            "_model_name": "HTMLModel",
            "placeholder": "​",
            "_view_module": "@jupyter-widgets/controls",
            "_model_module_version": "1.5.0",
            "value": " 9913344/? [04:17&lt;00:00, 38538.68it/s]",
            "_view_count": null,
            "_view_module_version": "1.5.0",
            "description_tooltip": null,
            "_model_module": "@jupyter-widgets/controls",
            "layout": "IPY_MODEL_6438a0df81c54b36af688b0598c39551"
          }
        },
        "72dd0e5bac0f4219817de6f57a863d45": {
          "model_module": "@jupyter-widgets/controls",
          "model_name": "ProgressStyleModel",
          "state": {
            "_view_name": "StyleView",
            "_model_name": "ProgressStyleModel",
            "description_width": "initial",
            "_view_module": "@jupyter-widgets/base",
            "_model_module_version": "1.5.0",
            "_view_count": null,
            "_view_module_version": "1.2.0",
            "bar_color": null,
            "_model_module": "@jupyter-widgets/controls"
          }
        },
        "71e9753bde914846b96dfc7a8e6842f8": {
          "model_module": "@jupyter-widgets/base",
          "model_name": "LayoutModel",
          "state": {
            "_view_name": "LayoutView",
            "grid_template_rows": null,
            "right": null,
            "justify_content": null,
            "_view_module": "@jupyter-widgets/base",
            "overflow": null,
            "_model_module_version": "1.2.0",
            "_view_count": null,
            "flex_flow": null,
            "width": null,
            "min_width": null,
            "border": null,
            "align_items": null,
            "bottom": null,
            "_model_module": "@jupyter-widgets/base",
            "top": null,
            "grid_column": null,
            "overflow_y": null,
            "overflow_x": null,
            "grid_auto_flow": null,
            "grid_area": null,
            "grid_template_columns": null,
            "flex": null,
            "_model_name": "LayoutModel",
            "justify_items": null,
            "grid_row": null,
            "max_height": null,
            "align_content": null,
            "visibility": null,
            "align_self": null,
            "height": null,
            "min_height": null,
            "padding": null,
            "grid_auto_rows": null,
            "grid_gap": null,
            "max_width": null,
            "order": null,
            "_view_module_version": "1.2.0",
            "grid_template_areas": null,
            "object_position": null,
            "object_fit": null,
            "grid_auto_columns": null,
            "margin": null,
            "display": null,
            "left": null
          }
        },
        "99c0cdfc6ebb41b4a6aed72f13648cea": {
          "model_module": "@jupyter-widgets/controls",
          "model_name": "DescriptionStyleModel",
          "state": {
            "_view_name": "StyleView",
            "_model_name": "DescriptionStyleModel",
            "description_width": "",
            "_view_module": "@jupyter-widgets/base",
            "_model_module_version": "1.5.0",
            "_view_count": null,
            "_view_module_version": "1.2.0",
            "_model_module": "@jupyter-widgets/controls"
          }
        },
        "6438a0df81c54b36af688b0598c39551": {
          "model_module": "@jupyter-widgets/base",
          "model_name": "LayoutModel",
          "state": {
            "_view_name": "LayoutView",
            "grid_template_rows": null,
            "right": null,
            "justify_content": null,
            "_view_module": "@jupyter-widgets/base",
            "overflow": null,
            "_model_module_version": "1.2.0",
            "_view_count": null,
            "flex_flow": null,
            "width": null,
            "min_width": null,
            "border": null,
            "align_items": null,
            "bottom": null,
            "_model_module": "@jupyter-widgets/base",
            "top": null,
            "grid_column": null,
            "overflow_y": null,
            "overflow_x": null,
            "grid_auto_flow": null,
            "grid_area": null,
            "grid_template_columns": null,
            "flex": null,
            "_model_name": "LayoutModel",
            "justify_items": null,
            "grid_row": null,
            "max_height": null,
            "align_content": null,
            "visibility": null,
            "align_self": null,
            "height": null,
            "min_height": null,
            "padding": null,
            "grid_auto_rows": null,
            "grid_gap": null,
            "max_width": null,
            "order": null,
            "_view_module_version": "1.2.0",
            "grid_template_areas": null,
            "object_position": null,
            "object_fit": null,
            "grid_auto_columns": null,
            "margin": null,
            "display": null,
            "left": null
          }
        },
        "7b80c0df145a4ef5bac2d63cdca78d55": {
          "model_module": "@jupyter-widgets/controls",
          "model_name": "HBoxModel",
          "state": {
            "_view_name": "HBoxView",
            "_dom_classes": [],
            "_model_name": "HBoxModel",
            "_view_module": "@jupyter-widgets/controls",
            "_model_module_version": "1.5.0",
            "_view_count": null,
            "_view_module_version": "1.5.0",
            "box_style": "",
            "layout": "IPY_MODEL_8eb954ecb4d140d18bf03da6bc2b7485",
            "_model_module": "@jupyter-widgets/controls",
            "children": [
              "IPY_MODEL_f03fec835a524a6a80e2490af19c3b2f",
              "IPY_MODEL_64427472b51a4bbbac4dbc2e9d6a4c93"
            ]
          }
        },
        "8eb954ecb4d140d18bf03da6bc2b7485": {
          "model_module": "@jupyter-widgets/base",
          "model_name": "LayoutModel",
          "state": {
            "_view_name": "LayoutView",
            "grid_template_rows": null,
            "right": null,
            "justify_content": null,
            "_view_module": "@jupyter-widgets/base",
            "overflow": null,
            "_model_module_version": "1.2.0",
            "_view_count": null,
            "flex_flow": null,
            "width": null,
            "min_width": null,
            "border": null,
            "align_items": null,
            "bottom": null,
            "_model_module": "@jupyter-widgets/base",
            "top": null,
            "grid_column": null,
            "overflow_y": null,
            "overflow_x": null,
            "grid_auto_flow": null,
            "grid_area": null,
            "grid_template_columns": null,
            "flex": null,
            "_model_name": "LayoutModel",
            "justify_items": null,
            "grid_row": null,
            "max_height": null,
            "align_content": null,
            "visibility": null,
            "align_self": null,
            "height": null,
            "min_height": null,
            "padding": null,
            "grid_auto_rows": null,
            "grid_gap": null,
            "max_width": null,
            "order": null,
            "_view_module_version": "1.2.0",
            "grid_template_areas": null,
            "object_position": null,
            "object_fit": null,
            "grid_auto_columns": null,
            "margin": null,
            "display": null,
            "left": null
          }
        },
        "f03fec835a524a6a80e2490af19c3b2f": {
          "model_module": "@jupyter-widgets/controls",
          "model_name": "FloatProgressModel",
          "state": {
            "_view_name": "ProgressView",
            "style": "IPY_MODEL_35d2af493d2347118f2c3932fe55c178",
            "_dom_classes": [],
            "description": "",
            "_model_name": "FloatProgressModel",
            "bar_style": "success",
            "max": 28881,
            "_view_module": "@jupyter-widgets/controls",
            "_model_module_version": "1.5.0",
            "value": 28881,
            "_view_count": null,
            "_view_module_version": "1.5.0",
            "orientation": "horizontal",
            "min": 0,
            "description_tooltip": null,
            "_model_module": "@jupyter-widgets/controls",
            "layout": "IPY_MODEL_6e6cabad30444384b0b84df946cbae8f"
          }
        },
        "64427472b51a4bbbac4dbc2e9d6a4c93": {
          "model_module": "@jupyter-widgets/controls",
          "model_name": "HTMLModel",
          "state": {
            "_view_name": "HTMLView",
            "style": "IPY_MODEL_125c6d7818954734a438bff716b3326a",
            "_dom_classes": [],
            "description": "",
            "_model_name": "HTMLModel",
            "placeholder": "​",
            "_view_module": "@jupyter-widgets/controls",
            "_model_module_version": "1.5.0",
            "value": " 29696/? [00:00&lt;00:00, 99731.96it/s]",
            "_view_count": null,
            "_view_module_version": "1.5.0",
            "description_tooltip": null,
            "_model_module": "@jupyter-widgets/controls",
            "layout": "IPY_MODEL_09aacbc0536d491484829ba42b7d6a37"
          }
        },
        "35d2af493d2347118f2c3932fe55c178": {
          "model_module": "@jupyter-widgets/controls",
          "model_name": "ProgressStyleModel",
          "state": {
            "_view_name": "StyleView",
            "_model_name": "ProgressStyleModel",
            "description_width": "initial",
            "_view_module": "@jupyter-widgets/base",
            "_model_module_version": "1.5.0",
            "_view_count": null,
            "_view_module_version": "1.2.0",
            "bar_color": null,
            "_model_module": "@jupyter-widgets/controls"
          }
        },
        "6e6cabad30444384b0b84df946cbae8f": {
          "model_module": "@jupyter-widgets/base",
          "model_name": "LayoutModel",
          "state": {
            "_view_name": "LayoutView",
            "grid_template_rows": null,
            "right": null,
            "justify_content": null,
            "_view_module": "@jupyter-widgets/base",
            "overflow": null,
            "_model_module_version": "1.2.0",
            "_view_count": null,
            "flex_flow": null,
            "width": null,
            "min_width": null,
            "border": null,
            "align_items": null,
            "bottom": null,
            "_model_module": "@jupyter-widgets/base",
            "top": null,
            "grid_column": null,
            "overflow_y": null,
            "overflow_x": null,
            "grid_auto_flow": null,
            "grid_area": null,
            "grid_template_columns": null,
            "flex": null,
            "_model_name": "LayoutModel",
            "justify_items": null,
            "grid_row": null,
            "max_height": null,
            "align_content": null,
            "visibility": null,
            "align_self": null,
            "height": null,
            "min_height": null,
            "padding": null,
            "grid_auto_rows": null,
            "grid_gap": null,
            "max_width": null,
            "order": null,
            "_view_module_version": "1.2.0",
            "grid_template_areas": null,
            "object_position": null,
            "object_fit": null,
            "grid_auto_columns": null,
            "margin": null,
            "display": null,
            "left": null
          }
        },
        "125c6d7818954734a438bff716b3326a": {
          "model_module": "@jupyter-widgets/controls",
          "model_name": "DescriptionStyleModel",
          "state": {
            "_view_name": "StyleView",
            "_model_name": "DescriptionStyleModel",
            "description_width": "",
            "_view_module": "@jupyter-widgets/base",
            "_model_module_version": "1.5.0",
            "_view_count": null,
            "_view_module_version": "1.2.0",
            "_model_module": "@jupyter-widgets/controls"
          }
        },
        "09aacbc0536d491484829ba42b7d6a37": {
          "model_module": "@jupyter-widgets/base",
          "model_name": "LayoutModel",
          "state": {
            "_view_name": "LayoutView",
            "grid_template_rows": null,
            "right": null,
            "justify_content": null,
            "_view_module": "@jupyter-widgets/base",
            "overflow": null,
            "_model_module_version": "1.2.0",
            "_view_count": null,
            "flex_flow": null,
            "width": null,
            "min_width": null,
            "border": null,
            "align_items": null,
            "bottom": null,
            "_model_module": "@jupyter-widgets/base",
            "top": null,
            "grid_column": null,
            "overflow_y": null,
            "overflow_x": null,
            "grid_auto_flow": null,
            "grid_area": null,
            "grid_template_columns": null,
            "flex": null,
            "_model_name": "LayoutModel",
            "justify_items": null,
            "grid_row": null,
            "max_height": null,
            "align_content": null,
            "visibility": null,
            "align_self": null,
            "height": null,
            "min_height": null,
            "padding": null,
            "grid_auto_rows": null,
            "grid_gap": null,
            "max_width": null,
            "order": null,
            "_view_module_version": "1.2.0",
            "grid_template_areas": null,
            "object_position": null,
            "object_fit": null,
            "grid_auto_columns": null,
            "margin": null,
            "display": null,
            "left": null
          }
        },
        "e4244e365d0145c080dd4d026b4b3e13": {
          "model_module": "@jupyter-widgets/controls",
          "model_name": "HBoxModel",
          "state": {
            "_view_name": "HBoxView",
            "_dom_classes": [],
            "_model_name": "HBoxModel",
            "_view_module": "@jupyter-widgets/controls",
            "_model_module_version": "1.5.0",
            "_view_count": null,
            "_view_module_version": "1.5.0",
            "box_style": "",
            "layout": "IPY_MODEL_fcf25a92379040f9921767f000fefb30",
            "_model_module": "@jupyter-widgets/controls",
            "children": [
              "IPY_MODEL_3044c5f27ad2412b89003a37404c7695",
              "IPY_MODEL_b692eee4e76e43c6a122b56ae387c820"
            ]
          }
        },
        "fcf25a92379040f9921767f000fefb30": {
          "model_module": "@jupyter-widgets/base",
          "model_name": "LayoutModel",
          "state": {
            "_view_name": "LayoutView",
            "grid_template_rows": null,
            "right": null,
            "justify_content": null,
            "_view_module": "@jupyter-widgets/base",
            "overflow": null,
            "_model_module_version": "1.2.0",
            "_view_count": null,
            "flex_flow": null,
            "width": null,
            "min_width": null,
            "border": null,
            "align_items": null,
            "bottom": null,
            "_model_module": "@jupyter-widgets/base",
            "top": null,
            "grid_column": null,
            "overflow_y": null,
            "overflow_x": null,
            "grid_auto_flow": null,
            "grid_area": null,
            "grid_template_columns": null,
            "flex": null,
            "_model_name": "LayoutModel",
            "justify_items": null,
            "grid_row": null,
            "max_height": null,
            "align_content": null,
            "visibility": null,
            "align_self": null,
            "height": null,
            "min_height": null,
            "padding": null,
            "grid_auto_rows": null,
            "grid_gap": null,
            "max_width": null,
            "order": null,
            "_view_module_version": "1.2.0",
            "grid_template_areas": null,
            "object_position": null,
            "object_fit": null,
            "grid_auto_columns": null,
            "margin": null,
            "display": null,
            "left": null
          }
        },
        "3044c5f27ad2412b89003a37404c7695": {
          "model_module": "@jupyter-widgets/controls",
          "model_name": "FloatProgressModel",
          "state": {
            "_view_name": "ProgressView",
            "style": "IPY_MODEL_70e0b5f387b14f7e875933deb8890f89",
            "_dom_classes": [],
            "description": "",
            "_model_name": "FloatProgressModel",
            "bar_style": "success",
            "max": 1648877,
            "_view_module": "@jupyter-widgets/controls",
            "_model_module_version": "1.5.0",
            "value": 1648877,
            "_view_count": null,
            "_view_module_version": "1.5.0",
            "orientation": "horizontal",
            "min": 0,
            "description_tooltip": null,
            "_model_module": "@jupyter-widgets/controls",
            "layout": "IPY_MODEL_e008dc8753a04da0aed053e6fb8623c1"
          }
        },
        "b692eee4e76e43c6a122b56ae387c820": {
          "model_module": "@jupyter-widgets/controls",
          "model_name": "HTMLModel",
          "state": {
            "_view_name": "HTMLView",
            "style": "IPY_MODEL_6706912ceb214e02bc494c7a79e4a6fa",
            "_dom_classes": [],
            "description": "",
            "_model_name": "HTMLModel",
            "placeholder": "​",
            "_view_module": "@jupyter-widgets/controls",
            "_model_module_version": "1.5.0",
            "value": " 1649664/? [00:48&lt;00:00, 34355.05it/s]",
            "_view_count": null,
            "_view_module_version": "1.5.0",
            "description_tooltip": null,
            "_model_module": "@jupyter-widgets/controls",
            "layout": "IPY_MODEL_575ce9a0f25545a4a5bef70bef5ce757"
          }
        },
        "70e0b5f387b14f7e875933deb8890f89": {
          "model_module": "@jupyter-widgets/controls",
          "model_name": "ProgressStyleModel",
          "state": {
            "_view_name": "StyleView",
            "_model_name": "ProgressStyleModel",
            "description_width": "initial",
            "_view_module": "@jupyter-widgets/base",
            "_model_module_version": "1.5.0",
            "_view_count": null,
            "_view_module_version": "1.2.0",
            "bar_color": null,
            "_model_module": "@jupyter-widgets/controls"
          }
        },
        "e008dc8753a04da0aed053e6fb8623c1": {
          "model_module": "@jupyter-widgets/base",
          "model_name": "LayoutModel",
          "state": {
            "_view_name": "LayoutView",
            "grid_template_rows": null,
            "right": null,
            "justify_content": null,
            "_view_module": "@jupyter-widgets/base",
            "overflow": null,
            "_model_module_version": "1.2.0",
            "_view_count": null,
            "flex_flow": null,
            "width": null,
            "min_width": null,
            "border": null,
            "align_items": null,
            "bottom": null,
            "_model_module": "@jupyter-widgets/base",
            "top": null,
            "grid_column": null,
            "overflow_y": null,
            "overflow_x": null,
            "grid_auto_flow": null,
            "grid_area": null,
            "grid_template_columns": null,
            "flex": null,
            "_model_name": "LayoutModel",
            "justify_items": null,
            "grid_row": null,
            "max_height": null,
            "align_content": null,
            "visibility": null,
            "align_self": null,
            "height": null,
            "min_height": null,
            "padding": null,
            "grid_auto_rows": null,
            "grid_gap": null,
            "max_width": null,
            "order": null,
            "_view_module_version": "1.2.0",
            "grid_template_areas": null,
            "object_position": null,
            "object_fit": null,
            "grid_auto_columns": null,
            "margin": null,
            "display": null,
            "left": null
          }
        },
        "6706912ceb214e02bc494c7a79e4a6fa": {
          "model_module": "@jupyter-widgets/controls",
          "model_name": "DescriptionStyleModel",
          "state": {
            "_view_name": "StyleView",
            "_model_name": "DescriptionStyleModel",
            "description_width": "",
            "_view_module": "@jupyter-widgets/base",
            "_model_module_version": "1.5.0",
            "_view_count": null,
            "_view_module_version": "1.2.0",
            "_model_module": "@jupyter-widgets/controls"
          }
        },
        "575ce9a0f25545a4a5bef70bef5ce757": {
          "model_module": "@jupyter-widgets/base",
          "model_name": "LayoutModel",
          "state": {
            "_view_name": "LayoutView",
            "grid_template_rows": null,
            "right": null,
            "justify_content": null,
            "_view_module": "@jupyter-widgets/base",
            "overflow": null,
            "_model_module_version": "1.2.0",
            "_view_count": null,
            "flex_flow": null,
            "width": null,
            "min_width": null,
            "border": null,
            "align_items": null,
            "bottom": null,
            "_model_module": "@jupyter-widgets/base",
            "top": null,
            "grid_column": null,
            "overflow_y": null,
            "overflow_x": null,
            "grid_auto_flow": null,
            "grid_area": null,
            "grid_template_columns": null,
            "flex": null,
            "_model_name": "LayoutModel",
            "justify_items": null,
            "grid_row": null,
            "max_height": null,
            "align_content": null,
            "visibility": null,
            "align_self": null,
            "height": null,
            "min_height": null,
            "padding": null,
            "grid_auto_rows": null,
            "grid_gap": null,
            "max_width": null,
            "order": null,
            "_view_module_version": "1.2.0",
            "grid_template_areas": null,
            "object_position": null,
            "object_fit": null,
            "grid_auto_columns": null,
            "margin": null,
            "display": null,
            "left": null
          }
        },
        "033b16e707b445609b5c04a3c3d36b3f": {
          "model_module": "@jupyter-widgets/controls",
          "model_name": "HBoxModel",
          "state": {
            "_view_name": "HBoxView",
            "_dom_classes": [],
            "_model_name": "HBoxModel",
            "_view_module": "@jupyter-widgets/controls",
            "_model_module_version": "1.5.0",
            "_view_count": null,
            "_view_module_version": "1.5.0",
            "box_style": "",
            "layout": "IPY_MODEL_3e86359c6dfa4949bd2afb3b8bf82c3f",
            "_model_module": "@jupyter-widgets/controls",
            "children": [
              "IPY_MODEL_5cf6a9b98a7e4502830b176aa4f86bd9",
              "IPY_MODEL_3c84a874b4e84c429afebfd1d34d8213"
            ]
          }
        },
        "3e86359c6dfa4949bd2afb3b8bf82c3f": {
          "model_module": "@jupyter-widgets/base",
          "model_name": "LayoutModel",
          "state": {
            "_view_name": "LayoutView",
            "grid_template_rows": null,
            "right": null,
            "justify_content": null,
            "_view_module": "@jupyter-widgets/base",
            "overflow": null,
            "_model_module_version": "1.2.0",
            "_view_count": null,
            "flex_flow": null,
            "width": null,
            "min_width": null,
            "border": null,
            "align_items": null,
            "bottom": null,
            "_model_module": "@jupyter-widgets/base",
            "top": null,
            "grid_column": null,
            "overflow_y": null,
            "overflow_x": null,
            "grid_auto_flow": null,
            "grid_area": null,
            "grid_template_columns": null,
            "flex": null,
            "_model_name": "LayoutModel",
            "justify_items": null,
            "grid_row": null,
            "max_height": null,
            "align_content": null,
            "visibility": null,
            "align_self": null,
            "height": null,
            "min_height": null,
            "padding": null,
            "grid_auto_rows": null,
            "grid_gap": null,
            "max_width": null,
            "order": null,
            "_view_module_version": "1.2.0",
            "grid_template_areas": null,
            "object_position": null,
            "object_fit": null,
            "grid_auto_columns": null,
            "margin": null,
            "display": null,
            "left": null
          }
        },
        "5cf6a9b98a7e4502830b176aa4f86bd9": {
          "model_module": "@jupyter-widgets/controls",
          "model_name": "FloatProgressModel",
          "state": {
            "_view_name": "ProgressView",
            "style": "IPY_MODEL_5bb0e668d9544ca9a203a33eade4502e",
            "_dom_classes": [],
            "description": "",
            "_model_name": "FloatProgressModel",
            "bar_style": "success",
            "max": 4542,
            "_view_module": "@jupyter-widgets/controls",
            "_model_module_version": "1.5.0",
            "value": 4542,
            "_view_count": null,
            "_view_module_version": "1.5.0",
            "orientation": "horizontal",
            "min": 0,
            "description_tooltip": null,
            "_model_module": "@jupyter-widgets/controls",
            "layout": "IPY_MODEL_5fd6f425cd0a46159d62e64f64ee366a"
          }
        },
        "3c84a874b4e84c429afebfd1d34d8213": {
          "model_module": "@jupyter-widgets/controls",
          "model_name": "HTMLModel",
          "state": {
            "_view_name": "HTMLView",
            "style": "IPY_MODEL_243da820af824b06a8ae681d64fc2456",
            "_dom_classes": [],
            "description": "",
            "_model_name": "HTMLModel",
            "placeholder": "​",
            "_view_module": "@jupyter-widgets/controls",
            "_model_module_version": "1.5.0",
            "value": " 5120/? [00:00&lt;00:00, 18032.93it/s]",
            "_view_count": null,
            "_view_module_version": "1.5.0",
            "description_tooltip": null,
            "_model_module": "@jupyter-widgets/controls",
            "layout": "IPY_MODEL_ba0d93afec0840709c5beda8165f7fbe"
          }
        },
        "5bb0e668d9544ca9a203a33eade4502e": {
          "model_module": "@jupyter-widgets/controls",
          "model_name": "ProgressStyleModel",
          "state": {
            "_view_name": "StyleView",
            "_model_name": "ProgressStyleModel",
            "description_width": "initial",
            "_view_module": "@jupyter-widgets/base",
            "_model_module_version": "1.5.0",
            "_view_count": null,
            "_view_module_version": "1.2.0",
            "bar_color": null,
            "_model_module": "@jupyter-widgets/controls"
          }
        },
        "5fd6f425cd0a46159d62e64f64ee366a": {
          "model_module": "@jupyter-widgets/base",
          "model_name": "LayoutModel",
          "state": {
            "_view_name": "LayoutView",
            "grid_template_rows": null,
            "right": null,
            "justify_content": null,
            "_view_module": "@jupyter-widgets/base",
            "overflow": null,
            "_model_module_version": "1.2.0",
            "_view_count": null,
            "flex_flow": null,
            "width": null,
            "min_width": null,
            "border": null,
            "align_items": null,
            "bottom": null,
            "_model_module": "@jupyter-widgets/base",
            "top": null,
            "grid_column": null,
            "overflow_y": null,
            "overflow_x": null,
            "grid_auto_flow": null,
            "grid_area": null,
            "grid_template_columns": null,
            "flex": null,
            "_model_name": "LayoutModel",
            "justify_items": null,
            "grid_row": null,
            "max_height": null,
            "align_content": null,
            "visibility": null,
            "align_self": null,
            "height": null,
            "min_height": null,
            "padding": null,
            "grid_auto_rows": null,
            "grid_gap": null,
            "max_width": null,
            "order": null,
            "_view_module_version": "1.2.0",
            "grid_template_areas": null,
            "object_position": null,
            "object_fit": null,
            "grid_auto_columns": null,
            "margin": null,
            "display": null,
            "left": null
          }
        },
        "243da820af824b06a8ae681d64fc2456": {
          "model_module": "@jupyter-widgets/controls",
          "model_name": "DescriptionStyleModel",
          "state": {
            "_view_name": "StyleView",
            "_model_name": "DescriptionStyleModel",
            "description_width": "",
            "_view_module": "@jupyter-widgets/base",
            "_model_module_version": "1.5.0",
            "_view_count": null,
            "_view_module_version": "1.2.0",
            "_model_module": "@jupyter-widgets/controls"
          }
        },
        "ba0d93afec0840709c5beda8165f7fbe": {
          "model_module": "@jupyter-widgets/base",
          "model_name": "LayoutModel",
          "state": {
            "_view_name": "LayoutView",
            "grid_template_rows": null,
            "right": null,
            "justify_content": null,
            "_view_module": "@jupyter-widgets/base",
            "overflow": null,
            "_model_module_version": "1.2.0",
            "_view_count": null,
            "flex_flow": null,
            "width": null,
            "min_width": null,
            "border": null,
            "align_items": null,
            "bottom": null,
            "_model_module": "@jupyter-widgets/base",
            "top": null,
            "grid_column": null,
            "overflow_y": null,
            "overflow_x": null,
            "grid_auto_flow": null,
            "grid_area": null,
            "grid_template_columns": null,
            "flex": null,
            "_model_name": "LayoutModel",
            "justify_items": null,
            "grid_row": null,
            "max_height": null,
            "align_content": null,
            "visibility": null,
            "align_self": null,
            "height": null,
            "min_height": null,
            "padding": null,
            "grid_auto_rows": null,
            "grid_gap": null,
            "max_width": null,
            "order": null,
            "_view_module_version": "1.2.0",
            "grid_template_areas": null,
            "object_position": null,
            "object_fit": null,
            "grid_auto_columns": null,
            "margin": null,
            "display": null,
            "left": null
          }
        }
      }
    }
  },
  "cells": [
    {
      "cell_type": "markdown",
      "metadata": {
        "id": "view-in-github",
        "colab_type": "text"
      },
      "source": [
        "<a href=\"https://colab.research.google.com/github/claudevandort/UAI-DeepLearning/blob/master/03_NeuralNetworksMNIST.ipynb\" target=\"_parent\"><img src=\"https://colab.research.google.com/assets/colab-badge.svg\" alt=\"Open In Colab\"/></a>"
      ]
    },
    {
      "cell_type": "markdown",
      "metadata": {
        "id": "ZP7gXw9m4Ce4"
      },
      "source": [
        "<center>\n",
        "    <img src='https://github.com/jbekios/UAI-1-2021/blob/main/S02/images/small-uai.jpeg?raw=1'style=\"width: 300px;\">\n",
        "</center>\n",
        "\n",
        "## Laboratorio S03.1: Redes neuronales poco profundas y aprendizaje\n",
        "\n",
        "#### Curso: Aprendizaje profundo\n",
        "   \n",
        "<center>\n",
        "    <img src='https://www.diegocalvo.es/wp-content/uploads/2017/07/perceptron-monocapa.png'style=\"width: 400px;\"><br />\n",
        "    https://www.diegocalvo.es/clasificacion-de-redes-neuronales-artificiales/\n",
        "</center>\n",
        "\n",
        "**Profesor**: Dr. Juan Bekios Calfa\n",
        "\n",
        "**Grado**: MIA"
      ]
    },
    {
      "cell_type": "markdown",
      "metadata": {
        "id": "c7S0eYhwLFPQ"
      },
      "source": [
        "# Introducción\n",
        "\n",
        "En este tutorial veremos dos implementaciones en Pytorch una con clasificación lineal multiclase y otra utilizando una red neuronal poco profunda. La idea es poder comparar el rendimiento de ambos clasificadores.\n",
        "\n",
        "Como se verá, los modelos de entrenamiento implementados en Pytorch requieren mucho menos código que es escribir un proyecto desde cero como se vió en los laboratorios anteriores.\n",
        "\n",
        "Sin embargo, Pytorch oculta muchos detalles en sus cálculos. Que serán estudiados aquí. \n",
        "\n",
        "**Objetivos:**\n",
        "- Estudiar el conjunto de base de datos MNIST, que contiene imágenes de $28\\times 28$ píxeles escritos a mano.\n",
        "- Introducir el uso de Pytorch para construir y entrenar modelos\n",
        "- Explorar ajustes del modelo: Tamaño del conjunto de datos, tamaño del *batch* y regularización.\n"
      ]
    },
    {
      "cell_type": "markdown",
      "metadata": {
        "id": "4ziVxW4FLFPS"
      },
      "source": [
        "# Introducción\n",
        "\n",
        "**Base de datos**\n",
        "\n",
        "El conjunto de datos del MNIST contiene dígitos (numéricos) escritos a mano en blanco y negro de $28\\times 28$ píxeles de tamaño. Este es un\n",
        "conjunto de datos que se utiliza típicamente para demostraciones de modelos de aprendizaje de automático, y como un primer conjunto de datos para probar nuevos\n",
        "tipos de modelos.\n",
        "\n",
        "Para el laboratorio descargaremos este conjunto de datos. Para simplificar, sólo usaremos las primeras 2500 imágenes del conjunto de datos del MNIST."
      ]
    },
    {
      "cell_type": "code",
      "metadata": {
        "id": "MqqkSmjXQd4K"
      },
      "source": [
        "# Bajar los archivos MNIST manualmente\n",
        "!wget www.di.ens.fr/~lelarge/MNIST.tar.gz\n",
        "!tar -zxvf MNIST.tar.gz"
      ],
      "execution_count": null,
      "outputs": []
    },
    {
      "cell_type": "code",
      "metadata": {
        "colab": {
          "base_uri": "https://localhost:8080/",
          "height": 590,
          "referenced_widgets": [
            "1e159a80f51642289c6502850f4282ed",
            "c36c0e4fb49d458b9e87446996004eca",
            "6e8f45de8a3a450a87dcfe4499fb1255",
            "1c00648296604271b18722802e27cbb2",
            "72dd0e5bac0f4219817de6f57a863d45",
            "71e9753bde914846b96dfc7a8e6842f8",
            "99c0cdfc6ebb41b4a6aed72f13648cea",
            "6438a0df81c54b36af688b0598c39551",
            "7b80c0df145a4ef5bac2d63cdca78d55",
            "8eb954ecb4d140d18bf03da6bc2b7485",
            "f03fec835a524a6a80e2490af19c3b2f",
            "64427472b51a4bbbac4dbc2e9d6a4c93",
            "35d2af493d2347118f2c3932fe55c178",
            "6e6cabad30444384b0b84df946cbae8f",
            "125c6d7818954734a438bff716b3326a",
            "09aacbc0536d491484829ba42b7d6a37",
            "e4244e365d0145c080dd4d026b4b3e13",
            "fcf25a92379040f9921767f000fefb30",
            "3044c5f27ad2412b89003a37404c7695",
            "b692eee4e76e43c6a122b56ae387c820",
            "70e0b5f387b14f7e875933deb8890f89",
            "e008dc8753a04da0aed053e6fb8623c1",
            "6706912ceb214e02bc494c7a79e4a6fa",
            "575ce9a0f25545a4a5bef70bef5ce757",
            "033b16e707b445609b5c04a3c3d36b3f",
            "3e86359c6dfa4949bd2afb3b8bf82c3f",
            "5cf6a9b98a7e4502830b176aa4f86bd9",
            "3c84a874b4e84c429afebfd1d34d8213",
            "5bb0e668d9544ca9a203a33eade4502e",
            "5fd6f425cd0a46159d62e64f64ee366a",
            "243da820af824b06a8ae681d64fc2456",
            "ba0d93afec0840709c5beda8165f7fbe"
          ]
        },
        "id": "qWmKvTdN32PT",
        "outputId": "3e5da001-0cf0-4e6b-d1e5-5f32d388b867"
      },
      "source": [
        "from torchvision import datasets\n",
        "\n",
        "# Cargar el conjunto de datos\n",
        "# Las imágenes son cargadas por torchvision en formato PIL (Python Imaging Library)\n",
        "# mnist_train = datasets.MNIST('./', train=True, download=True)\n",
        "mnist_train = datasets.MNIST('data', train=True, download=True)\n",
        "mnist_train = list(mnist_train)\n",
        "\n",
        "print(len(mnist_train))"
      ],
      "execution_count": 1,
      "outputs": [
        {
          "output_type": "stream",
          "text": [
            "Downloading http://yann.lecun.com/exdb/mnist/train-images-idx3-ubyte.gz\n",
            "Downloading http://yann.lecun.com/exdb/mnist/train-images-idx3-ubyte.gz to data/MNIST/raw/train-images-idx3-ubyte.gz\n"
          ],
          "name": "stdout"
        },
        {
          "output_type": "display_data",
          "data": {
            "application/vnd.jupyter.widget-view+json": {
              "model_id": "1e159a80f51642289c6502850f4282ed",
              "version_minor": 0,
              "version_major": 2
            },
            "text/plain": [
              "HBox(children=(FloatProgress(value=0.0, max=9912422.0), HTML(value='')))"
            ]
          },
          "metadata": {
            "tags": []
          }
        },
        {
          "output_type": "stream",
          "text": [
            "\n",
            "Extracting data/MNIST/raw/train-images-idx3-ubyte.gz to data/MNIST/raw\n",
            "\n",
            "Downloading http://yann.lecun.com/exdb/mnist/train-labels-idx1-ubyte.gz\n",
            "Downloading http://yann.lecun.com/exdb/mnist/train-labels-idx1-ubyte.gz to data/MNIST/raw/train-labels-idx1-ubyte.gz\n"
          ],
          "name": "stdout"
        },
        {
          "output_type": "display_data",
          "data": {
            "application/vnd.jupyter.widget-view+json": {
              "model_id": "7b80c0df145a4ef5bac2d63cdca78d55",
              "version_minor": 0,
              "version_major": 2
            },
            "text/plain": [
              "HBox(children=(FloatProgress(value=0.0, max=28881.0), HTML(value='')))"
            ]
          },
          "metadata": {
            "tags": []
          }
        },
        {
          "output_type": "stream",
          "text": [
            "\n",
            "Extracting data/MNIST/raw/train-labels-idx1-ubyte.gz to data/MNIST/raw\n",
            "\n",
            "Downloading http://yann.lecun.com/exdb/mnist/t10k-images-idx3-ubyte.gz\n",
            "Downloading http://yann.lecun.com/exdb/mnist/t10k-images-idx3-ubyte.gz to data/MNIST/raw/t10k-images-idx3-ubyte.gz\n"
          ],
          "name": "stdout"
        },
        {
          "output_type": "display_data",
          "data": {
            "application/vnd.jupyter.widget-view+json": {
              "model_id": "e4244e365d0145c080dd4d026b4b3e13",
              "version_minor": 0,
              "version_major": 2
            },
            "text/plain": [
              "HBox(children=(FloatProgress(value=0.0, max=1648877.0), HTML(value='')))"
            ]
          },
          "metadata": {
            "tags": []
          }
        },
        {
          "output_type": "stream",
          "text": [
            "\n",
            "Extracting data/MNIST/raw/t10k-images-idx3-ubyte.gz to data/MNIST/raw\n",
            "\n",
            "Downloading http://yann.lecun.com/exdb/mnist/t10k-labels-idx1-ubyte.gz\n",
            "Downloading http://yann.lecun.com/exdb/mnist/t10k-labels-idx1-ubyte.gz to data/MNIST/raw/t10k-labels-idx1-ubyte.gz\n"
          ],
          "name": "stdout"
        },
        {
          "output_type": "display_data",
          "data": {
            "application/vnd.jupyter.widget-view+json": {
              "model_id": "033b16e707b445609b5c04a3c3d36b3f",
              "version_minor": 0,
              "version_major": 2
            },
            "text/plain": [
              "HBox(children=(FloatProgress(value=0.0, max=4542.0), HTML(value='')))"
            ]
          },
          "metadata": {
            "tags": []
          }
        },
        {
          "output_type": "stream",
          "text": [
            "\n",
            "Extracting data/MNIST/raw/t10k-labels-idx1-ubyte.gz to data/MNIST/raw\n",
            "\n",
            "Processing...\n"
          ],
          "name": "stdout"
        },
        {
          "output_type": "stream",
          "text": [
            "/usr/local/lib/python3.7/dist-packages/torchvision/datasets/mnist.py:502: UserWarning: The given NumPy array is not writeable, and PyTorch does not support non-writeable tensors. This means you can write to the underlying (supposedly non-writeable) NumPy array using the tensor. You may want to copy the array to protect its data or make it writeable before converting it to a tensor. This type of warning will be suppressed for the rest of this program. (Triggered internally at  /pytorch/torch/csrc/utils/tensor_numpy.cpp:143.)\n",
            "  return torch.from_numpy(parsed.astype(m[2], copy=False)).view(*s)\n"
          ],
          "name": "stderr"
        },
        {
          "output_type": "stream",
          "text": [
            "Done!\n",
            "60000\n"
          ],
          "name": "stdout"
        }
      ]
    },
    {
      "cell_type": "markdown",
      "metadata": {
        "id": "c789Lf6E79lT"
      },
      "source": [
        "## 1. Visualizando y explorando los datos"
      ]
    },
    {
      "cell_type": "code",
      "metadata": {
        "colab": {
          "base_uri": "https://localhost:8080/",
          "height": 252
        },
        "id": "npYba9pC3-6W",
        "outputId": "c579b482-8e10-4646-a618-378f71bf655b"
      },
      "source": [
        "import matplotlib.pyplot as plt\n",
        "for k, (image, label) in enumerate(mnist_train[:18]):\n",
        "  plt.subplot(3, 6, k+1)\n",
        "  plt.imshow(image, cmap='gray')"
      ],
      "execution_count": 2,
      "outputs": [
        {
          "output_type": "display_data",
          "data": {
            "image/png": "[encoded data removed]",
            "text/plain": [
              "<Figure size 432x288 with 18 Axes>"
            ]
          },
          "metadata": {
            "tags": [],
            "needs_background": "light"
          }
        }
      ]
    },
    {
      "cell_type": "markdown",
      "metadata": {
        "id": "LgcysRbI3_ij"
      },
      "source": [
        "PyTorch tiene funciones convertir una imagen en características numéricas de píxeles. El tensor aún conserva la geometría 2D de la imagen (aún obtenemos una forma de $1\\times 28\\times 28$). Para el ejercicio, hay que aplanar la imagen en un vector (para obtener un $1\\times 784$\n",
        "forma).\n"
      ]
    },
    {
      "cell_type": "markdown",
      "metadata": {
        "id": "rwP6fR3cLFPW"
      },
      "source": [
        "## 2. Preparando los datos"
      ]
    },
    {
      "cell_type": "code",
      "metadata": {
        "colab": {
          "base_uri": "https://localhost:8080/"
        },
        "id": "kB4BGuIa9Mt0",
        "outputId": "3a689429-bcbe-481f-bee8-4a6ecc5db0a1"
      },
      "source": [
        "from torchvision import transforms\n",
        "# transformamos el tipo de dato de imagen a una matriz de 28x28\n",
        "img_to_tensor = transforms.ToTensor()\n",
        "# convertir la última imagen vista (8) dentro de un tensor.\n",
        "print(image)\n",
        "img_tensor = img_to_tensor(image)\n",
        "img_tensor.shape"
      ],
      "execution_count": 3,
      "outputs": [
        {
          "output_type": "stream",
          "text": [
            "<PIL.Image.Image image mode=L size=28x28 at 0x7FADA34670D0>\n"
          ],
          "name": "stdout"
        },
        {
          "output_type": "execute_result",
          "data": {
            "text/plain": [
              "torch.Size([1, 28, 28])"
            ]
          },
          "metadata": {
            "tags": []
          },
          "execution_count": 3
        }
      ]
    },
    {
      "cell_type": "markdown",
      "metadata": {
        "id": "HEwUAWx39_Z5"
      },
      "source": [
        "Si queremos convertir la base de datos completa a representación de tipo Tensor. Se puede cargar de la siguiente forma:"
      ]
    },
    {
      "cell_type": "code",
      "metadata": {
        "colab": {
          "base_uri": "https://localhost:8080/"
        },
        "id": "V1NbRE6_-OoE",
        "outputId": "34023d04-552c-4f98-8dc0-6d2eb3670882"
      },
      "source": [
        "mnist_train = datasets.MNIST('data', train=True, transform=img_to_tensor)\n",
        "mnist_train = list(mnist_train)\n",
        "\n",
        "print('Tamaño de la primera imagen en formato de tensor:',mnist_train[0][0].shape)\n",
        "print('Etiqueta o valor clase de la primera  imagen:',mnist_train[0][1])"
      ],
      "execution_count": 4,
      "outputs": [
        {
          "output_type": "stream",
          "text": [
            "Tamaño de la primera imagen en formato de tensor: torch.Size([1, 28, 28])\n",
            "Etiqueta o valor clase de la primera  imagen: 5\n"
          ],
          "name": "stdout"
        }
      ]
    },
    {
      "cell_type": "markdown",
      "metadata": {
        "id": "k_yHG_Ps-1xk"
      },
      "source": [
        "Ahora, dividiremos estos datos en **entrenamiento** y **validación**, y empezaremos a construir nuestro modelo. No necesitaremos un conjunto de **pruebas** para esto\n",
        "pero en general también tendremos que contruir un conjunto de pruebas en los próximos laboratorios."
      ]
    },
    {
      "cell_type": "code",
      "metadata": {
        "id": "D07Yq2i0-318",
        "colab": {
          "base_uri": "https://localhost:8080/"
        },
        "outputId": "51f84485-4b11-4157-b296-d6829dff3055"
      },
      "source": [
        "print('Tamaño conjunto original:', len(mnist_train))\n",
        "mnist_train, mnist_val = mnist_train[:40000], mnist_train[40000:]\n",
        "print('='*50)\n",
        "print('Nuevo tamaño conjunto de entrenamiento: ', len(mnist_train))\n",
        "print('Nuevo tamaño conjunto de validación: ', len(mnist_val))"
      ],
      "execution_count": 5,
      "outputs": [
        {
          "output_type": "stream",
          "text": [
            "Tamaño conjunto original: 60000\n",
            "==================================================\n",
            "Nuevo tamaño conjunto de entrenamiento:  40000\n",
            "Nuevo tamaño conjunto de validación:  20000\n"
          ],
          "name": "stdout"
        }
      ]
    },
    {
      "cell_type": "markdown",
      "metadata": {
        "id": "870F-6jL--N0"
      },
      "source": [
        "## 3. Modelo lineal multiclass con Pytorch\n",
        "\n",
        "Para construir un modelo lineal en PyTorch, crearemos una instancia de la clase `nn.Linear`, y especificamos el número de entrada y el número de características de salida. Para la regresión lineal y la clasificación binaria, el número de salida características es 1. Para la clasificación de clases múltiples, tenemos tantos resultados como clases hay.\n",
        "\n",
        "Al usar este modelo para la clasificación, necesitaremos aplicar la activación sigmoide o softmax después. Es decir, este objeto sólo está destinado a manejar la parte lineal del cálculo del modelo.\n"
      ]
    },
    {
      "cell_type": "code",
      "metadata": {
        "id": "rE2oSZSz-9W0"
      },
      "source": [
        "import torch\n",
        "import torch.nn as nn\n",
        "\n",
        "example_model = nn.Linear(50, 1) # Asumimos 50 features y una salida lineal"
      ],
      "execution_count": 6,
      "outputs": []
    },
    {
      "cell_type": "markdown",
      "metadata": {
        "id": "ozGi-8f2_pgN"
      },
      "source": [
        "El objeto `example_model` contiene los **pesos** y los **sesgos** de el modelo. Por defecto, **PyTorch inicializa** esos valores con **números aleatorios cercanos a cero**."
      ]
    },
    {
      "cell_type": "code",
      "metadata": {
        "colab": {
          "base_uri": "https://localhost:8080/"
        },
        "id": "HajcAACH_7vn",
        "outputId": "948cd8bf-8f94-44a5-aa6a-d3f63946a498"
      },
      "source": [
        "weight, bias = list(example_model.parameters())\n",
        "print(weight)\n",
        "print(weight.shape)\n",
        "print(bias)\n",
        "print(bias.shape)"
      ],
      "execution_count": 7,
      "outputs": [
        {
          "output_type": "stream",
          "text": [
            "Parameter containing:\n",
            "tensor([[-0.0311,  0.1119, -0.1404, -0.1187, -0.0826, -0.1388,  0.0789, -0.0116,\n",
            "         -0.1002,  0.0970, -0.0307,  0.0246, -0.1313,  0.0296, -0.0018, -0.0023,\n",
            "         -0.0905, -0.0278, -0.0257, -0.0811,  0.0432,  0.0252,  0.0431, -0.0036,\n",
            "         -0.0624,  0.1405,  0.0869, -0.0237,  0.0005,  0.0246, -0.1388,  0.0989,\n",
            "         -0.0029, -0.0736, -0.0408,  0.1018, -0.0926, -0.0728,  0.0426,  0.1345,\n",
            "         -0.0672, -0.1041,  0.1213,  0.0673,  0.0547,  0.0519,  0.0031, -0.0142,\n",
            "          0.0108, -0.0277]], requires_grad=True)\n",
            "torch.Size([1, 50])\n",
            "Parameter containing:\n",
            "tensor([-0.1240], requires_grad=True)\n",
            "torch.Size([1])\n"
          ],
          "name": "stdout"
        }
      ]
    },
    {
      "cell_type": "markdown",
      "metadata": {
        "id": "kO344zPOAONf"
      },
      "source": [
        "Si creamos un nuevo modelo, sus parámetros iniciales cambiarán."
      ]
    },
    {
      "cell_type": "code",
      "metadata": {
        "colab": {
          "base_uri": "https://localhost:8080/"
        },
        "id": "MyW6M3RJAVRu",
        "outputId": "860616a9-8069-4de9-f9f2-34f5df29f1e5"
      },
      "source": [
        "example_model = nn.Linear(50, 1)\n",
        "weight, bias = list(example_model.parameters())\n",
        "\n",
        "# Los valores son diferentes a los de arriba\n",
        "print(weight)\n",
        "print(weight.shape)\n",
        "print(bias)\n",
        "print(bias.shape)"
      ],
      "execution_count": 8,
      "outputs": [
        {
          "output_type": "stream",
          "text": [
            "Parameter containing:\n",
            "tensor([[-0.0257,  0.0476,  0.0182,  0.0429, -0.0327,  0.1372, -0.0506, -0.0330,\n",
            "         -0.1346, -0.0235, -0.1008,  0.0129,  0.0152,  0.0619,  0.1205,  0.0844,\n",
            "          0.0068, -0.1247,  0.1058, -0.0168, -0.1014,  0.0564, -0.0386,  0.0525,\n",
            "         -0.1132, -0.0119, -0.0987,  0.1129, -0.1360,  0.1142,  0.0710, -0.1191,\n",
            "         -0.0509, -0.0918,  0.0734,  0.0480, -0.0368,  0.0803,  0.0233, -0.0752,\n",
            "         -0.1063, -0.1206, -0.1163,  0.0635,  0.0735,  0.0344,  0.0074,  0.1316,\n",
            "         -0.0787, -0.0518]], requires_grad=True)\n",
            "torch.Size([1, 50])\n",
            "Parameter containing:\n",
            "tensor([-0.0151], requires_grad=True)\n",
            "torch.Size([1])\n"
          ],
          "name": "stdout"
        }
      ]
    },
    {
      "cell_type": "markdown",
      "metadata": {
        "id": "K0aiSHAoAmui"
      },
      "source": [
        "### Modelo lineal multiclase\n",
        "\n",
        "Ahora, vamos a crear el modelo real que entrenaremos para resolver el problema de clasificación de dígitos del MNIST. ¿Cuántos\n",
        "características de entrada que tenemos? ¿Cuántas características de salida necesitamos?"
      ]
    },
    {
      "cell_type": "markdown",
      "metadata": {
        "id": "fCv_WkgrLFPc"
      },
      "source": [
        "*  ¿Cuántas características (entrada) necesitamos para resolver este problema? "
      ]
    },
    {
      "cell_type": "markdown",
      "metadata": {
        "id": "_F24NnAILFPd"
      },
      "source": [
        "*  ¿Cuántas características de salida necesitamos?"
      ]
    },
    {
      "cell_type": "code",
      "metadata": {
        "colab": {
          "base_uri": "https://localhost:8080/"
        },
        "id": "ZhHqH__cAtZs",
        "outputId": "04022e5e-5469-4834-bc4b-edcbf2b67fc0"
      },
      "source": [
        "# RESPUESTA:\n",
        "\n",
        "model = nn.Linear(784, 10) # 784 = 28*28\n",
        "print(model)\n",
        "\n",
        "# Verifiquemos que las formas de los pesos y los sesgos son lo que esperamos\n",
        "weight, bias = list(model.parameters())\n",
        "print(weight.shape)\n",
        "print(bias.shape)"
      ],
      "execution_count": 9,
      "outputs": [
        {
          "output_type": "stream",
          "text": [
            "Linear(in_features=784, out_features=10, bias=True)\n",
            "torch.Size([10, 784])\n",
            "torch.Size([10])\n"
          ],
          "name": "stdout"
        }
      ]
    },
    {
      "cell_type": "markdown",
      "metadata": {
        "id": "Lrc7m6M8A8l6"
      },
      "source": [
        "## 4. Haciendo predicciones\n",
        "\n",
        "Veamos cómo podemos hacer una predicción con este modelo. (Puede que parezca extraño que estemos hablando de cómo\n",
        "hacer predicciones antes de hablar de cómo entrenar el modelo. La razón es que siempre entrenaremos el modelo\n",
        "utilizando una variante de descenso de gradiente. Así que puedes imaginar que los pesos de este modelo se convertirán eventualmente en más\n",
        "significativo de lo que es ahora)\n",
        "\n",
        "Empezaremos con el modelo de ejemplo más simple primero. La forma en que hacemos las predicciones es comenzando con una entrada\n",
        "x que tiene la forma requerida. Ya que `example_model` es sólo un ejemplo, crearemos un tensor con la apropiada forma, llena de valores aleatorios."
      ]
    },
    {
      "cell_type": "code",
      "metadata": {
        "colab": {
          "base_uri": "https://localhost:8080/"
        },
        "id": "guDIKWEbBOig",
        "outputId": "2fe9d08f-d122-4cbd-c30e-021d51c0514e"
      },
      "source": [
        "x = torch.randn(50) # Crear un tensor de rango 1 con 50 características\n",
        "print(x)\n",
        "x.shape"
      ],
      "execution_count": 10,
      "outputs": [
        {
          "output_type": "stream",
          "text": [
            "tensor([-0.8523,  1.4904,  0.7749, -0.0405, -0.4727, -0.5515,  1.2480, -0.1700,\n",
            "         0.5752, -1.4342,  0.8888, -0.0769, -0.9204, -0.2181,  1.7141,  0.4629,\n",
            "         1.1311,  0.7248,  0.1636, -0.1149,  1.8863,  0.5667, -0.0933, -0.5824,\n",
            "        -1.8885, -1.8294,  0.6501, -1.8615, -0.0201,  1.0586,  0.4166, -0.3456,\n",
            "        -0.9857,  0.3845, -1.1456, -0.2479, -0.2634,  1.2502,  0.9667, -0.5766,\n",
            "         1.0544, -1.5015, -0.0114,  1.5578, -0.2441,  2.0662, -0.6604,  1.7668,\n",
            "         1.2773, -0.4045])\n"
          ],
          "name": "stdout"
        },
        {
          "output_type": "execute_result",
          "data": {
            "text/plain": [
              "torch.Size([50])"
            ]
          },
          "metadata": {
            "tags": []
          },
          "execution_count": 10
        }
      ]
    },
    {
      "cell_type": "markdown",
      "metadata": {
        "id": "dxjKBm_XBvPd"
      },
      "source": [
        "Para hacer predicciones, aplicamos el `example_model` como si fuera una función, con las entradas como argumento:"
      ]
    },
    {
      "cell_type": "code",
      "metadata": {
        "colab": {
          "base_uri": "https://localhost:8080/"
        },
        "id": "tydPQBFGB-YG",
        "outputId": "7a44e6b8-ff15-474c-aef9-6cd8dab00e6b"
      },
      "source": [
        "y = example_model(x)\n",
        "print(y)\n",
        "y.shape"
      ],
      "execution_count": 11,
      "outputs": [
        {
          "output_type": "stream",
          "text": [
            "tensor([0.4275], grad_fn=<AddBackward0>)\n"
          ],
          "name": "stdout"
        },
        {
          "output_type": "execute_result",
          "data": {
            "text/plain": [
              "torch.Size([1])"
            ]
          },
          "metadata": {
            "tags": []
          },
          "execution_count": 11
        }
      ]
    },
    {
      "cell_type": "markdown",
      "metadata": {
        "id": "WlqIJ6UkB3a-"
      },
      "source": [
        "Si este modelo se utilizara para la **clasificación binaria**, también podríamos necesitar aplicar la función sigmoide:"
      ]
    },
    {
      "cell_type": "code",
      "metadata": {
        "colab": {
          "base_uri": "https://localhost:8080/"
        },
        "id": "SV7Ru0WTCFCA",
        "outputId": "f027bcbb-af64-42b4-fcb5-1219e292a802"
      },
      "source": [
        "torch.sigmoid(example_model(x))"
      ],
      "execution_count": 12,
      "outputs": [
        {
          "output_type": "execute_result",
          "data": {
            "text/plain": [
              "tensor([0.6053], grad_fn=<SigmoidBackward>)"
            ]
          },
          "metadata": {
            "tags": []
          },
          "execution_count": 12
        }
      ]
    },
    {
      "cell_type": "markdown",
      "metadata": {
        "id": "71njJjIJCMtp"
      },
      "source": [
        "Una buena noticia  de PyTorch es que vectoriza y paraleliza el cálculo para nosotros. Así que, si tuviéramos un lote de 32\n",
        "entradas para las que queremos hacer predicciones, podemos realizar ese cálculo usando una sola llamada:"
      ]
    },
    {
      "cell_type": "code",
      "metadata": {
        "colab": {
          "base_uri": "https://localhost:8080/"
        },
        "id": "vD76B6UXCT2S",
        "outputId": "999a8a86-1423-4a0c-9ce9-b6e462964e31"
      },
      "source": [
        "x = torch.randn([32, 50]) # pila de  32 entradas\n",
        "print(x.shape)\n",
        "y = example_model(x)\n",
        "print(y.shape)"
      ],
      "execution_count": 13,
      "outputs": [
        {
          "output_type": "stream",
          "text": [
            "torch.Size([32, 50])\n",
            "torch.Size([32, 1])\n"
          ],
          "name": "stdout"
        }
      ]
    },
    {
      "cell_type": "markdown",
      "metadata": {
        "id": "VeWOwKKhCxbB"
      },
      "source": [
        "(Nota: El orden de las dimensiones en nuestra entrada $x$ importa. El tamaño del *batch size* **siempre va primero**, y el **número de características** siempre va en **segundo lugar**) ¡Ahora, tratemos de hacer algunas \"predicciones\" con nuestro modelo MNIST! Todavía tenemos la variable image_tensor de\n",
        "antes:"
      ]
    },
    {
      "cell_type": "markdown",
      "metadata": {
        "id": "XNfCpl65LFPh"
      },
      "source": [
        "###Base de datos MNIST.\n",
        "\n",
        "* Imágenes de $28\\times 28$ pixeles.\n",
        "* Una etiqueta por cada imágen. (Número entero)"
      ]
    },
    {
      "cell_type": "code",
      "metadata": {
        "colab": {
          "base_uri": "https://localhost:8080/"
        },
        "id": "YwbSG4psCx2Z",
        "outputId": "60166106-7cda-4623-9b02-75b93c6ba24a"
      },
      "source": [
        "# Imágenes MNIST\n",
        "img_tensor.shape"
      ],
      "execution_count": 14,
      "outputs": [
        {
          "output_type": "execute_result",
          "data": {
            "text/plain": [
              "torch.Size([1, 28, 28])"
            ]
          },
          "metadata": {
            "tags": []
          },
          "execution_count": 14
        }
      ]
    },
    {
      "cell_type": "markdown",
      "metadata": {
        "id": "Xjt13VjvDXbq"
      },
      "source": [
        "Sin embargo, la forma de este tensor no es lo que necesitamos ahora. Necesitamos aplanar la imagen en un rango 1\n",
        "tensor (con forma [784] - que representan una imagen de $28\\times 28$) o un tensor de rango 2 (con forma [1, 784]). Escogeremos este último, para que la transición a\n",
        "pasar varias imágenes al mismo tiempo es más fácil:"
      ]
    },
    {
      "cell_type": "code",
      "metadata": {
        "colab": {
          "base_uri": "https://localhost:8080/"
        },
        "id": "CiF24TOPDgB9",
        "outputId": "56ceb949-6b1b-454c-f2a2-504650abfd3d"
      },
      "source": [
        "x = img_tensor.view(1, 784)\n",
        "print(x.shape)\n",
        "z = model(x)\n",
        "print(z)\n",
        "print(z.shape)\n",
        "y = torch.softmax(z, dim=1)\n",
        "print(y) # \"Probabilidad\"\n",
        "#print(torch.sum(y))"
      ],
      "execution_count": 15,
      "outputs": [
        {
          "output_type": "stream",
          "text": [
            "torch.Size([1, 784])\n",
            "tensor([[ 0.3288, -0.1240, -0.0167,  0.2652,  0.3888, -0.2698,  0.2907,  0.2291,\n",
            "         -0.1322,  0.1754]], grad_fn=<AddmmBackward>)\n",
            "torch.Size([1, 10])\n",
            "tensor([[0.1212, 0.0771, 0.0858, 0.1137, 0.1287, 0.0666, 0.1167, 0.1097, 0.0764,\n",
            "         0.1040]], grad_fn=<SoftmaxBackward>)\n"
          ],
          "name": "stdout"
        }
      ]
    },
    {
      "cell_type": "markdown",
      "metadata": {
        "id": "Uly9K_d5Dl6d"
      },
      "source": [
        "El `dim=1` en el _softmax_ le dice a PyTorch qué dimensión representa las diferentes imágenes, y cuál representa la\n",
        "etiquetas de diferentes clases. Queremos que nuestros resultados sean una distribución de probabilidad entre las clases, y no las diferentes\n",
        "imágenes."
      ]
    },
    {
      "cell_type": "markdown",
      "metadata": {
        "id": "XbplIWT-LFPi"
      },
      "source": [
        "## 5. Función de pérdida\n",
        "\n",
        "Para que la red sea útil, necesitamos entrenarla, para que los pesos sean realmente significativos,\n",
        "valores no aleatorios. Como se mencionó antes, usaremos la red para hacer predicciones, luego compararemos las predicciones\n",
        "contra las observaciones reales a través de la función de pérdida.\n",
        "PyTorch tiene funciones de pérdida estándar que podemos usar: por ejemplo, `nn.BCEWithLogitsLoss()` para una **clasificación binaria**\n",
        "y un `nn.CrossEntropyLoss()` para un problema de **clasificación multiclase** como el nuestro."
      ]
    },
    {
      "cell_type": "code",
      "metadata": {
        "id": "iZh5jJ-REWIM"
      },
      "source": [
        "criterion = nn.CrossEntropyLoss()"
      ],
      "execution_count": 16,
      "outputs": []
    },
    {
      "cell_type": "markdown",
      "metadata": {
        "id": "Za0VyYmoEXW9"
      },
      "source": [
        "Este criterio también puede ser llamado como una función. Toma como parámetros la predicción de *logit* y las etiquetas reales, y\n",
        "devuelve la pérdida. Dos cosas a tener en cuenta para esta función:\n",
        "\n",
        "1. Las **funciones de pérdida** como esta normalmente toman el *logit* como parámetro, en lugar de las distribuciones de probabilidad post-softmax. Esto es para la estabilidad numérica.\n",
        "2. Esta **función de pérdida** también toma como parámetro el índice de la etiqueta real, en lugar de un vector de un punto."
      ]
    },
    {
      "cell_type": "code",
      "metadata": {
        "colab": {
          "base_uri": "https://localhost:8080/"
        },
        "id": "ObZtYMZ9E05Z",
        "outputId": "9e55a508-ccf2-4438-d041-db54e95892a9"
      },
      "source": [
        "loss = criterion(y, torch.Tensor([8]).long()) # digit 8 = the 8-th class\n",
        "print(loss)"
      ],
      "execution_count": 17,
      "outputs": [
        {
          "output_type": "stream",
          "text": [
            "tensor(2.3263, grad_fn=<NllLossBackward>)\n"
          ],
          "name": "stdout"
        }
      ]
    },
    {
      "cell_type": "markdown",
      "metadata": {
        "id": "Ul9sqc-vFLBn"
      },
      "source": [
        "## 6. Optimización\n",
        "\n",
        "PyTorch también calcula las derivadas para nosotros usando la diferenciación automática, de la cual (podríamos) hablar en este curso.\n",
        "En resumen, podemos especificar un optimizador (como el Descenso de Gradiente Estocástico), y usar el optimizador para determinar cómo\n",
        "actualizar los pesos."
      ]
    },
    {
      "cell_type": "code",
      "metadata": {
        "id": "Ym5gDOE_FOrF"
      },
      "source": [
        "import torch.optim as optim\n",
        "optimizer = optim.SGD(model.parameters(), lr=0.005) # lr = learning rate\n",
        "# Tres líneas de código que son requeridas para el rendimiento \n",
        "# de actualización del descenso de gradiente:\n",
        "loss.backward() # Calcula los gradientes\n",
        "optimizer.step() # Hace las actualizaciones de cada parámetro\n",
        "optimizer.zero_grad() # Limpia el paso anterior dejado por step()"
      ],
      "execution_count": 18,
      "outputs": []
    },
    {
      "cell_type": "markdown",
      "metadata": {
        "id": "dmhDLh5VF-PP"
      },
      "source": [
        "También podemos utilizar regularización L2 para mantener el suavizado de los parámetros:"
      ]
    },
    {
      "cell_type": "code",
      "metadata": {
        "id": "vAJjBdFhF_FK"
      },
      "source": [
        "optimizer = optim.SGD(model.parameters(), lr=0.005, weight_decay=0.01)"
      ],
      "execution_count": 19,
      "outputs": []
    },
    {
      "cell_type": "markdown",
      "metadata": {
        "id": "_JMeSrPvGVoU"
      },
      "source": [
        "## 7. Batching\n",
        "\n",
        "Pytorch nos permite cargar los datos por lotes para implementar el descenso de gradiente estocástico.\n"
      ]
    },
    {
      "cell_type": "code",
      "metadata": {
        "colab": {
          "base_uri": "https://localhost:8080/"
        },
        "id": "RcEL8T62GlQc",
        "outputId": "00bee786-3613-47da-daf5-c482bcf08c0a"
      },
      "source": [
        "train_loader = torch.utils.data.DataLoader(mnist_train,\n",
        "                                           batch_size=32, # batch size\n",
        "                                           shuffle=True) # Mezclar despues de cada epoch\n",
        "for index, (xs, ts) in enumerate(train_loader):\n",
        "  print('Número de batch:', index)\n",
        "  print('='*50)\n",
        "  print(xs.shape) # image pixels\n",
        "  print(ts.shape) # targets\n",
        "  break"
      ],
      "execution_count": 20,
      "outputs": [
        {
          "output_type": "stream",
          "text": [
            "Número de batch: 0\n",
            "==================================================\n",
            "torch.Size([32, 1, 28, 28])\n",
            "torch.Size([32])\n"
          ],
          "name": "stdout"
        }
      ]
    },
    {
      "cell_type": "markdown",
      "metadata": {
        "id": "8QaVmrNjHpcJ"
      },
      "source": [
        "## 8. Código completo"
      ]
    },
    {
      "cell_type": "code",
      "metadata": {
        "id": "TlF9UXwbLFPo"
      },
      "source": [
        "# CODIGO COMPLETO Y EJECUTABLE\n",
        "import torch.optim as optim\n",
        "\n",
        "def run_gradient_descent(model,\n",
        "                      batch_size=32,\n",
        "                      learning_rate=0.01,\n",
        "                      weight_decay=0,\n",
        "                      num_epochs=10):\n",
        "  # Optimización\n",
        "  criterion = nn.CrossEntropyLoss()\n",
        "  optimizer = optim.SGD(model.parameters(), lr=learning_rate, weight_decay=weight_decay)\n",
        "  iters, losses = [], []\n",
        "  iters_sub, train_acc, val_acc = [], [] ,[]\n",
        "  train_loader = torch.utils.data.DataLoader(\n",
        "        mnist_train,\n",
        "        batch_size=batch_size,\n",
        "        shuffle=True)\n",
        "  # ENTRENAMIENTO\n",
        "  n = 0 # Número de iteraciones\n",
        "  for epoch in range(num_epochs):\n",
        "    for xs, ts in iter(train_loader):\n",
        "      if len(ts) != batch_size:\n",
        "        continue\n",
        "      xs = xs.view(-1, 784) # Convertir la imagen en un vector\n",
        "      zs = model(xs)\n",
        "      loss = criterion(zs, ts) # Calcular el loss total\n",
        "      loss.backward() # Calcular gradientes\n",
        "      optimizer.step() # Actualizar parámetros\n",
        "      optimizer.zero_grad() # Borrar todos los cálculos anteriores en Pytorch\n",
        "      # save the current training information\n",
        "      iters.append(n)\n",
        "      losses.append(float(loss)/batch_size) # Calcular el loss promedio\n",
        "      if n % 10 == 0:\n",
        "        iters_sub.append(n)\n",
        "        train_acc.append(get_accuracy(model, mnist_train))\n",
        "        val_acc.append(get_accuracy(model, mnist_val))\n",
        "      # increment the iteration number\n",
        "      n += 1\n",
        "\n",
        "  # plotting\n",
        "  plt.figure(figsize=(20, 4))\n",
        "  plt.title(\"Curva de entrenamiento (batch_size={}, lr={})\".format(batch_size, learning_rate))\n",
        "  plt.plot(iters, losses, label=\"Entrenamiento\")\n",
        "  plt.xlabel(\"Iteraciones\")\n",
        "  plt.ylabel(\"Loss\")\n",
        "  plt.show()\n",
        "\n",
        "  plt.figure(figsize=(20, 4))\n",
        "  plt.title(\"Curva de entrenamiento (batch_size={}, lr={})\".format(batch_size, learning_rate))\n",
        "  plt.plot(iters_sub, train_acc, label=\"Entrenamiento\")\n",
        "  plt.plot(iters_sub, val_acc, label=\"Validación\")\n",
        "  plt.xlabel(\"Iteraciones\")\n",
        "  plt.ylabel(\"Tasa de acierto\")\n",
        "  plt.legend(loc='best')\n",
        "  plt.show()\n",
        "\n",
        "  return model\n",
        "\n",
        "def get_accuracy(model, data):\n",
        "  loader = torch.utils.data.DataLoader(data, batch_size=500)\n",
        "  correct, total = 0, 0\n",
        "  for xs, ts in loader:\n",
        "    xs = xs.view(-1, 784) # Convertir la imagen en un vector\n",
        "    zs = model(xs)\n",
        "    pred = zs.max(1, keepdim=True)[1] # Obtener el índice de la clasificiación (logit)\n",
        "    correct += pred.eq(ts.view_as(pred)).sum().item()\n",
        "    total += int(ts.shape[0])\n",
        "    return correct / total"
      ],
      "execution_count": 22,
      "outputs": []
    },
    {
      "cell_type": "markdown",
      "metadata": {
        "id": "KGQr_W_oIu6M"
      },
      "source": [
        "Ahora podemos entrenar el modelo."
      ]
    },
    {
      "cell_type": "code",
      "metadata": {
        "colab": {
          "base_uri": "https://localhost:8080/",
          "height": 607
        },
        "id": "mf27146qIyDp",
        "outputId": "0a6e9719-71a0-42d9-9f14-db6800260a47"
      },
      "source": [
        "%%time\n",
        "model = nn.Linear(784, 10)\n",
        "run_gradient_descent(model, batch_size=64, learning_rate=0.01, num_epochs=10)"
      ],
      "execution_count": 23,
      "outputs": [
        {
          "output_type": "display_data",
          "data": {
            "image/png": "[encoded data removed]",
            "text/plain": [
              "<Figure size 1440x288 with 1 Axes>"
            ]
          },
          "metadata": {
            "tags": [],
            "needs_background": "light"
          }
        },
        {
          "output_type": "display_data",
          "data": {
            "image/png": "[encoded data removed]",
            "text/plain": [
              "<Figure size 1440x288 with 1 Axes>"
            ]
          },
          "metadata": {
            "tags": [],
            "needs_background": "light"
          }
        },
        {
          "output_type": "stream",
          "text": [
            "CPU times: user 7.53 s, sys: 302 ms, total: 7.83 s\n",
            "Wall time: 7.87 s\n"
          ],
          "name": "stdout"
        }
      ]
    },
    {
      "cell_type": "markdown",
      "metadata": {
        "id": "EtnBImntLFPq"
      },
      "source": [
        "### Matriz de confusión"
      ]
    },
    {
      "cell_type": "code",
      "metadata": {
        "id": "-ZyYE_46LFPq",
        "colab": {
          "base_uri": "https://localhost:8080/"
        },
        "outputId": "8dfbe09b-9017-4cbd-8a6d-59052ba15a8c"
      },
      "source": [
        "# Accuracy conjunto de validación\n",
        "acc_valid = get_accuracy(model, mnist_val)\n",
        "\n",
        "loader = torch.utils.data.DataLoader(mnist_val, batch_size=20000)\n",
        "\n",
        "for xs, ts in loader:\n",
        "    y_pred_logit = model(xs.view(-1, 784))\n",
        "    y_pred = y_pred_logit.max(1, keepdim=True)[1]\n",
        "\n",
        "print(ts.shape)\n",
        "print(y_pred.detach().numpy().shape)\n"
      ],
      "execution_count": 24,
      "outputs": [
        {
          "output_type": "stream",
          "text": [
            "torch.Size([20000])\n",
            "(20000, 1)\n"
          ],
          "name": "stdout"
        }
      ]
    },
    {
      "cell_type": "markdown",
      "metadata": {
        "id": "x2qr5TajzsU7"
      },
      "source": [
        "### Analizar vector de pesos"
      ]
    },
    {
      "cell_type": "code",
      "metadata": {
        "colab": {
          "base_uri": "https://localhost:8080/",
          "height": 375
        },
        "id": "EzC2GSAfzsuR",
        "outputId": "3027f92e-7d06-4985-e00e-cbd131c78305"
      },
      "source": [
        "#print(list(model.parameters()))\n",
        "\n",
        "#for name, param in model.named_parameters():\n",
        "#    print(name)\n",
        "#    print(param)\n",
        "#    print('-'*20)\n",
        "\n",
        "# Obtengo los parámetros en formato diccionario\n",
        "d = dict(model.named_parameters())\n",
        "# Selecciono solo los parámetros que ajunta la regresión lineal\n",
        "w = d['weight']\n",
        "\n",
        "import matplotlib.pyplot as plt\n",
        "\n",
        "\n",
        "f = plt.figure(figsize=(20,6))\n",
        "# Por cada vector de parámetros pesos grafico (10x728)\n",
        "for index, template in enumerate(w):\n",
        "  template = template.detach().numpy().reshape(28,28)\n",
        "  plt.subplot(2, 5, index+1)\n",
        "  plt.imshow(template)"
      ],
      "execution_count": 25,
      "outputs": [
        {
          "output_type": "display_data",
          "data": {
            "image/png": "[encoded data removed]",
            "text/plain": [
              "<Figure size 1440x432 with 10 Axes>"
            ]
          },
          "metadata": {
            "tags": [],
            "needs_background": "light"
          }
        }
      ]
    }
  ]
}