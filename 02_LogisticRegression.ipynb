{
  "nbformat": 4,
  "nbformat_minor": 0,
  "metadata": {
    "colab": {
      "name": "Regresión Logística y RRNN poco profundas.ipynb",
      "provenance": [],
      "authorship_tag": "ABX9TyP7bDcp2MxoIiJFiRZluPN1",
      "include_colab_link": true
    },
    "kernelspec": {
      "name": "python3",
      "display_name": "Python 3"
    },
    "language_info": {
      "name": "python"
    },
    "accelerator": "GPU"
  },
  "cells": [
    {
      "cell_type": "markdown",
      "metadata": {
        "id": "view-in-github",
        "colab_type": "text"
      },
      "source": [
        "<a href=\"https://colab.research.google.com/github/claudevandort/UAI-DeepLearning/blob/master/02_LogisticRegression.ipynb\" target=\"_parent\"><img src=\"https://colab.research.google.com/assets/colab-badge.svg\" alt=\"Open In Colab\"/></a>"
      ]
    },
    {
      "cell_type": "markdown",
      "metadata": {
        "id": "WRyVB_wllnAD"
      },
      "source": [
        "# Regresión Logística"
      ]
    },
    {
      "cell_type": "code",
      "metadata": {
        "id": "gBoSQKXSljW4"
      },
      "source": [
        "# Librerías\n",
        "\n",
        "import torch.nn as nn\n",
        "import torch\n",
        "import numpy as np\n",
        "from sklearn import datasets\n",
        "from sklearn.preprocessing import StandardScaler\n",
        "from sklearn.model_selection import train_test_split"
      ],
      "execution_count": 1,
      "outputs": []
    },
    {
      "cell_type": "code",
      "metadata": {
        "id": "QIsYKsexmWx3"
      },
      "source": [
        "# Cargar datos\n",
        "bc = datasets.load_breast_cancer()\n",
        "X, y = bc.data, bc.target\n",
        "\n",
        "n_samples, n_features = X.shape\n",
        "\n",
        "X_train, X_test, y_train, y_test = train_test_split(X, y, test_size=0.2, random_state=42)\n",
        "\n",
        "sc = StandardScaler()\n",
        "# Escalar datos de entrenamiento y entrenar\n",
        "X_train = sc.fit_transform(X_train)\n",
        "# Escalar datos de prueba\n",
        "X_test = sc.transform(X_test)\n",
        "\n",
        "# Convertir a tensores\n",
        "X_train = torch.from_numpy(X_train.astype(np.float32))\n",
        "X_test = torch.from_numpy(X_test.astype(np.float32))\n",
        "y_train = torch.from_numpy(y_train.astype(np.float32))\n",
        "y_test = torch.from_numpy(y_test.astype(np.float32))\n",
        "\n",
        "# Convertir a vector columna\n",
        "y_train = y_train.view(y_train.shape[0], 1)\n",
        "y_test = y_test.view(y_test.shape[0], 1)"
      ],
      "execution_count": 8,
      "outputs": []
    },
    {
      "cell_type": "code",
      "metadata": {
        "id": "ulFSsyS2nqsD"
      },
      "source": [
        "# Modelo\n",
        "class Model(nn.Module):\n",
        "  # Declarar las partes del modelo\n",
        "  def __init__(self, n_input_features):\n",
        "    super(Model, self).__init__()\n",
        "    self.linear = nn.Linear(n_input_features, 1)\n",
        "  \n",
        "  # Calcular estimación\n",
        "  def forward(self, x):\n",
        "    y_pred = torch.sigmoid(self.linear(x))\n",
        "    return y_pred\n",
        "\n",
        "model = Model(n_features)\n",
        "\n",
        "# Loss y optimizador\n",
        "num_epochs = 100\n",
        "learning_rate = 0.02\n",
        "criterion = nn.BCELoss()\n",
        "optimizer = torch.optim.SGD(model.parameters(), lr=learning_rate)"
      ],
      "execution_count": 10,
      "outputs": []
    },
    {
      "cell_type": "code",
      "metadata": {
        "colab": {
          "base_uri": "https://localhost:8080/"
        },
        "id": "FMehisz3qz1c",
        "outputId": "fb31a5ac-8bc3-435c-ce1e-daf641a3d879"
      },
      "source": [
        "# Entrenamiento\n",
        "for epoch in range(num_epochs):\n",
        "  # Forward\n",
        "  y_pred = model(X_train)\n",
        "  loss = criterion(y_pred, y_train)\n",
        "\n",
        "  # Actualizar gradientes\n",
        "  loss.backward()\n",
        "  optimizer.step()\n",
        "  optimizer.zero_grad()\n",
        "\n",
        "  if (epoch+1) % 10 == 0:\n",
        "    print(f'epoch: {epoch+1}, loss = {loss.item():.4f}')\n",
        "\n",
        "# Comparar con el conjunto de pruebas\n",
        "with torch.no_grad():\n",
        "  y_predicted = model(X_test).round()\n",
        "  acc = y_predicted.eq(y_test).sum() / float(y_test.shape[0])\n",
        "  print(f'Tasa de acierto: {acc.item():.4f}')"
      ],
      "execution_count": 13,
      "outputs": [
        {
          "output_type": "stream",
          "text": [
            "epoch: 10, loss = 0.1431\n",
            "epoch: 20, loss = 0.1407\n",
            "epoch: 30, loss = 0.1384\n",
            "epoch: 40, loss = 0.1363\n",
            "epoch: 50, loss = 0.1344\n",
            "epoch: 60, loss = 0.1325\n",
            "epoch: 70, loss = 0.1308\n",
            "epoch: 80, loss = 0.1291\n",
            "epoch: 90, loss = 0.1276\n",
            "epoch: 100, loss = 0.1261\n",
            "Tasa de acierto: 0.9825\n"
          ],
          "name": "stdout"
        }
      ]
    },
    {
      "cell_type": "markdown",
      "metadata": {
        "id": "wO9BsvkltVGB"
      },
      "source": [
        "# Red neuronal poco profunda"
      ]
    },
    {
      "cell_type": "code",
      "metadata": {
        "id": "kHox7CG1s8L6"
      },
      "source": [
        "# Librerías\n",
        "import torch\n",
        "from torch.autograd import Variable\n",
        "import torch.nn as nn\n",
        "import torch.nn.functional as F"
      ],
      "execution_count": 1,
      "outputs": []
    },
    {
      "cell_type": "code",
      "metadata": {
        "colab": {
          "base_uri": "https://localhost:8080/"
        },
        "id": "o9G6H9I6uU37",
        "outputId": "816aad69-d0cb-42ad-ed8b-6bd3e0cbb4e4"
      },
      "source": [
        "# Modelo neuronal\n",
        "class Net(nn.Module):\n",
        "  def __init__(self):\n",
        "    super(Net, self).__init__()\n",
        "    self.fc1 = nn.Linear(1, 2, bias=True)\n",
        "    self.fc2 = nn.Linear(2, 1, bias=True)\n",
        "\n",
        "  def forward(self, x):\n",
        "    x = self.fc2(F.relu(self.fc1(x)))\n",
        "    return x\n",
        "\n",
        "net = Net().cuda()\n",
        "print(net)\n",
        "print(list(net.parameters()))"
      ],
      "execution_count": 2,
      "outputs": [
        {
          "output_type": "stream",
          "text": [
            "Net(\n",
            "  (fc1): Linear(in_features=1, out_features=2, bias=True)\n",
            "  (fc2): Linear(in_features=2, out_features=1, bias=True)\n",
            ")\n",
            "[Parameter containing:\n",
            "tensor([[0.8578],\n",
            "        [0.5111]], device='cuda:0', requires_grad=True), Parameter containing:\n",
            "tensor([ 0.7574, -0.4648], device='cuda:0', requires_grad=True), Parameter containing:\n",
            "tensor([[0.0288, 0.5403]], device='cuda:0', requires_grad=True), Parameter containing:\n",
            "tensor([-0.2859], device='cuda:0', requires_grad=True)]\n"
          ],
          "name": "stdout"
        }
      ]
    },
    {
      "cell_type": "code",
      "metadata": {
        "colab": {
          "base_uri": "https://localhost:8080/"
        },
        "id": "QrCy_evIw6dl",
        "outputId": "c4087554-3658-48b4-a7c7-9e14ab519141"
      },
      "source": [
        "# Test run\n",
        "input = Variable(torch.randn(1, 1, 1)).cuda()\n",
        "print(input)\n",
        "\n",
        "net.zero_grad()\n",
        "\n",
        "out = net(input)\n",
        "print(out)"
      ],
      "execution_count": 3,
      "outputs": [
        {
          "output_type": "stream",
          "text": [
            "tensor([[[0.5727]]], device='cuda:0')\n",
            "tensor([[[-0.2499]]], device='cuda:0', grad_fn=<AddBackward0>)\n"
          ],
          "name": "stdout"
        }
      ]
    },
    {
      "cell_type": "code",
      "metadata": {
        "colab": {
          "base_uri": "https://localhost:8080/"
        },
        "id": "3bazmIPj0EAU",
        "outputId": "5ccc5f78-dbf2-4a69-ad13-35791d205965"
      },
      "source": [
        "# Datos de prueba\n",
        "data = [(1,3), (2, 6), (3,9), (4, 12), (5, 15), (6,18)]\n",
        "\n",
        "# Entrenar\n",
        "import torch.optim as optim\n",
        "optimizer = optim.SGD(net.parameters(), lr=0.001, momentum=0.4)\n",
        "criterion = nn.MSELoss()\n",
        "\n",
        "for epoch in range(300):\n",
        "  for i, data2 in enumerate(data):\n",
        "    X, Y = iter(data2)\n",
        "    X, Y = Variable(torch.FloatTensor([X]), requires_grad=True).cuda(), Variable(torch.FloatTensor([Y]), requires_grad=False).cuda()\n",
        "    optimizer.zero_grad()\n",
        "    y_pred =  net(X)\n",
        "    output = criterion(y_pred, Y)\n",
        "    output.backward()\n",
        "    optimizer.step()\n",
        "\n",
        "  if (epoch % 20 == 0.0):\n",
        "    print('Epoch {} - loss: {}'.format(epoch, output))"
      ],
      "execution_count": 4,
      "outputs": [
        {
          "output_type": "stream",
          "text": [
            "Epoch 0 - loss: 161.71078491210938\n",
            "Epoch 20 - loss: 0.031853802502155304\n",
            "Epoch 40 - loss: 0.016081761568784714\n",
            "Epoch 60 - loss: 0.00808698683977127\n",
            "Epoch 80 - loss: 0.004053282085806131\n",
            "Epoch 100 - loss: 0.0020260370802134275\n",
            "Epoch 120 - loss: 0.001010953914374113\n",
            "Epoch 140 - loss: 0.0005038084927946329\n",
            "Epoch 160 - loss: 0.00025074114091694355\n",
            "Epoch 180 - loss: 0.00012467104534152895\n",
            "Epoch 200 - loss: 6.196252070367336e-05\n",
            "Epoch 220 - loss: 3.0764436814934015e-05\n",
            "Epoch 240 - loss: 1.5303525287890807e-05\n",
            "Epoch 260 - loss: 7.596190698677674e-06\n",
            "Epoch 280 - loss: 3.7701247492805123e-06\n"
          ],
          "name": "stdout"
        }
      ]
    },
    {
      "cell_type": "code",
      "metadata": {
        "colab": {
          "base_uri": "https://localhost:8080/"
        },
        "id": "AJFq5Kb_3LKx",
        "outputId": "68589fa7-4f95-4829-e189-1e6a3ee154b9"
      },
      "source": [
        "print(list(net.parameters()), end='\\n\\n')\n",
        "\n",
        "# Listar los atributos de los parámetros\n",
        "for param in net.parameters():\n",
        "    print(type(param.data), param.size())"
      ],
      "execution_count": 5,
      "outputs": [
        {
          "output_type": "stream",
          "text": [
            "[Parameter containing:\n",
            "tensor([[1.3129],\n",
            "        [1.2568]], device='cuda:0', requires_grad=True), Parameter containing:\n",
            "tensor([ 0.6998, -0.4591], device='cuda:0', requires_grad=True), Parameter containing:\n",
            "tensor([[1.0834, 1.2546]], device='cuda:0', requires_grad=True), Parameter containing:\n",
            "tensor([-0.1788], device='cuda:0', requires_grad=True)]\n",
            "\n",
            "<class 'torch.Tensor'> torch.Size([2, 1])\n",
            "<class 'torch.Tensor'> torch.Size([2])\n",
            "<class 'torch.Tensor'> torch.Size([1, 2])\n",
            "<class 'torch.Tensor'> torch.Size([1])\n"
          ],
          "name": "stdout"
        }
      ]
    }
  ]
}