{
  "nbformat": 4,
  "nbformat_minor": 0,
  "metadata": {
    "colab": {
      "name": "Untitled3.ipynb",
      "provenance": [],
      "authorship_tag": "ABX9TyPR1g0qL6Gd/n1jF/NlcAnR",
      "include_colab_link": true
    },
    "kernelspec": {
      "name": "python3",
      "display_name": "Python 3"
    },
    "language_info": {
      "name": "python"
    }
  },
  "cells": [
    {
      "cell_type": "markdown",
      "metadata": {
        "id": "view-in-github",
        "colab_type": "text"
      },
      "source": [
        "<a href=\"https://colab.research.google.com/github/claudevandort/UAI-DeepLearning/blob/master/01_LinearRegression.ipynb\" target=\"_parent\"><img src=\"https://colab.research.google.com/assets/colab-badge.svg\" alt=\"Open In Colab\"/></a>"
      ]
    },
    {
      "cell_type": "markdown",
      "metadata": {
        "id": "B-riW5O_BFVi"
      },
      "source": [
        "# Tensores"
      ]
    },
    {
      "cell_type": "code",
      "metadata": {
        "id": "ZwF9sFYQ613D"
      },
      "source": [
        "import torch\n",
        "import numpy as np"
      ],
      "execution_count": null,
      "outputs": []
    },
    {
      "cell_type": "code",
      "metadata": {
        "colab": {
          "base_uri": "https://localhost:8080/"
        },
        "id": "4TAhfSvk7y5K",
        "outputId": "00e76b73-c141-4961-c829-99b8d98f7f34"
      },
      "source": [
        "x = torch.empty(1)\n",
        "print(x)\n",
        "\n",
        "x = torch.empty(3)\n",
        "print(x)\n",
        "\n",
        "x = torch.empty(2,3)\n",
        "print(x)\n",
        "\n",
        "x = torch.empty(2, 2, 3)\n",
        "print(x)"
      ],
      "execution_count": null,
      "outputs": [
        {
          "output_type": "stream",
          "text": [
            "tensor([-7.3630e-26])\n",
            "tensor([-3.9882e-26,  3.0960e-41,  9.7217e-01])\n",
            "tensor([[-7.3625e-26,  3.0960e-41,  9.7217e-01],\n",
            "        [ 6.2552e-01,  9.8613e-01,  7.9313e-01]])\n",
            "tensor([[[-7.3629e-26,  3.0960e-41,  9.7217e-01],\n",
            "         [ 0.0000e+00,  0.0000e+00,  0.0000e+00]],\n",
            "\n",
            "        [[ 0.0000e+00,  0.0000e+00,  0.0000e+00],\n",
            "         [ 0.0000e+00,  0.0000e+00,  0.0000e+00]]])\n"
          ],
          "name": "stdout"
        }
      ]
    },
    {
      "cell_type": "code",
      "metadata": {
        "colab": {
          "base_uri": "https://localhost:8080/"
        },
        "id": "FoWihy2y765A",
        "outputId": "9c33d2ad-09b6-4ddf-db53-53f5b0ad51e5"
      },
      "source": [
        "# tensor desde lista\n",
        "t1 = torch.tensor([[1,2], [3,4], [5,6]])\n",
        "print(t1)\n",
        "print(t1.shape)\n",
        "\n",
        "# tensor desde numpy\n",
        "t2 = torch.tensor(np.array([1,2,3,4]))\n",
        "print(t2)\n",
        "\n",
        "#tensor aleatorio\n",
        "t3 = torch.rand(2,3)\n",
        "print(t3)"
      ],
      "execution_count": null,
      "outputs": [
        {
          "output_type": "stream",
          "text": [
            "tensor([[1, 2],\n",
            "        [3, 4],\n",
            "        [5, 6]])\n",
            "torch.Size([3, 2])\n",
            "tensor([1, 2, 3, 4])\n",
            "tensor([[0.3967, 0.0996, 0.9609],\n",
            "        [0.6875, 0.1783, 0.5278]])\n"
          ],
          "name": "stdout"
        }
      ]
    },
    {
      "cell_type": "code",
      "metadata": {
        "colab": {
          "base_uri": "https://localhost:8080/"
        },
        "id": "k8_7c8B58p2C",
        "outputId": "02f84b48-d989-43c7-8999-64e9dab12017"
      },
      "source": [
        "# accediendo al tensor\n",
        "print(t1.size())\n",
        "print(t1[1])\n",
        "print(t1[1][1])"
      ],
      "execution_count": null,
      "outputs": [
        {
          "output_type": "stream",
          "text": [
            "torch.Size([3, 2])\n",
            "tensor([3, 4])\n",
            "tensor(4)\n"
          ],
          "name": "stdout"
        }
      ]
    },
    {
      "cell_type": "code",
      "metadata": {
        "colab": {
          "base_uri": "https://localhost:8080/"
        },
        "id": "iE3n9WJO9vpN",
        "outputId": "4b64a1de-7a2a-43d7-91db-8bb5571f23f0"
      },
      "source": [
        "# usando CUDA\n",
        "print(torch.cuda.is_available())\n",
        "if torch.cuda.is_available():\n",
        "  device = torch.cuda.current_device()\n",
        "  print(device)\n",
        "  print(torch.cuda.get_device_name(device))"
      ],
      "execution_count": null,
      "outputs": [
        {
          "output_type": "stream",
          "text": [
            "True\n",
            "0\n",
            "Tesla T4\n"
          ],
          "name": "stdout"
        }
      ]
    },
    {
      "cell_type": "code",
      "metadata": {
        "colab": {
          "base_uri": "https://localhost:8080/"
        },
        "id": "4sWgwTFV-a1x",
        "outputId": "08ba0f26-1d14-4863-98ab-214a67008976"
      },
      "source": [
        "# CPU vs GPU\n",
        "# CPU\n",
        "%%time\n",
        "\n",
        "for i in range(500):\n",
        "  x = torch.randn(1000, 1000)\n",
        "  y = torch.randn(1000, 1000)\n",
        "  z = torch.matmul(x, y)"
      ],
      "execution_count": null,
      "outputs": [
        {
          "output_type": "stream",
          "text": [
            "CPU times: user 20.3 s, sys: 54.6 ms, total: 20.4 s\n",
            "Wall time: 20.4 s\n"
          ],
          "name": "stdout"
        }
      ]
    },
    {
      "cell_type": "code",
      "metadata": {
        "colab": {
          "base_uri": "https://localhost:8080/"
        },
        "id": "TNAmGCToAIwn",
        "outputId": "d743c782-88d2-4fe0-958a-97db27161eb7"
      },
      "source": [
        "# GPU\n",
        "%%time\n",
        "\n",
        "cuda0 = torch.device('cuda:0')\n",
        "for i in range(500):\n",
        "  x = torch.randn(1000, 1000, device=cuda0)\n",
        "  y = torch.randn(1000, 1000, device=cuda0)\n",
        "  z = torch.matmul(x, y)"
      ],
      "execution_count": null,
      "outputs": [
        {
          "output_type": "stream",
          "text": [
            "CPU times: user 78.4 ms, sys: 110 ms, total: 189 ms\n",
            "Wall time: 194 ms\n"
          ],
          "name": "stdout"
        }
      ]
    },
    {
      "cell_type": "markdown",
      "metadata": {
        "id": "lKcWqBROBSbd"
      },
      "source": [
        "# Regresión Lineal"
      ]
    },
    {
      "cell_type": "markdown",
      "metadata": {
        "id": "Iwbe6-lHCSj3"
      },
      "source": [
        "Se realiza el cálculo de una regresión lineal por medio del cálculo manual de los gradientes (derivada de la función de pérdida).\n",
        "\n",
        "omo ejemplo utilizaremos base de datos muy simple. La hipótesis será lineal:\n",
        "\n",
        "$$y = \\theta_0 \\cdot x$$\n",
        "\n",
        "Sin intercepto o _bias_ para simplificar el problema y explicarlo con claridad."
      ]
    },
    {
      "cell_type": "code",
      "metadata": {
        "colab": {
          "base_uri": "https://localhost:8080/",
          "height": 241
        },
        "id": "XtLcW9hEBWI9",
        "outputId": "4849d0a1-72c9-4bba-9fae-cabb389f0151"
      },
      "source": [
        "import matplotlib.pyplot as plt\n",
        "\n",
        "plt.figure(figsize=(5, 3))\n",
        "\n",
        "X = np.array([1, 2, 3, 4], dtype=np.float32)\n",
        "y = np.array([2, 4, 6, 8], dtype=np.float32)\n",
        "\n",
        "plt.plot(X, y, marker='o', markerfacecolor='red')\n",
        "plt.title(\"Título del gráfico\")\n",
        "plt.xlabel('X')\n",
        "plt.ylabel('y')\n",
        "plt.grid(True)"
      ],
      "execution_count": null,
      "outputs": [
        {
          "output_type": "display_data",
          "data": {
            "image/png": "[encoded data removed]",
            "text/plain": [
              "<Figure size 360x216 with 1 Axes>"
            ]
          },
          "metadata": {
            "tags": [],
            "needs_background": "light"
          }
        }
      ]
    },
    {
      "cell_type": "markdown",
      "metadata": {
        "id": "MM6Hi1iiEZza"
      },
      "source": [
        "## Usando descenso de gradiente"
      ]
    },
    {
      "cell_type": "markdown",
      "metadata": {
        "id": "Y0biMxBTU_lO"
      },
      "source": [
        "Para calcular una regresión lineal utilizando descenso de gradientedebemos contar con lo siguiente:\n",
        "\n",
        "* **Hipótesis**: Función lineal para el ejemplo de nuestra hipótesis será: $$\\hat{y}=\\theta_0 \\cdot x$$ Es la función que hace la predicción una vez que fueron aprendidos los parámetros, también se denota como: $$\\hat{y}=h_\\theta(x)$$\n",
        "* **Función de pérdida**: Error cuadrático medio (MSE, mean squared error), $$l(y,\\hat{y})=\\frac{1}{N}\\cdot (y -\\hat{y})^2$$\n",
        "\n",
        "* **Derivada de la función de pérdida**: $$\\frac{dl}{d\\theta_0} = \\frac{1}{N}\\cdot 2x(\\theta_0 x - y)$$"
      ]
    },
    {
      "cell_type": "code",
      "metadata": {
        "colab": {
          "base_uri": "https://localhost:8080/"
        },
        "id": "5wBonntdDjGP",
        "outputId": "dee9770a-fff3-420f-c354-9ef60d6fbec3"
      },
      "source": [
        "# Inicializo los thetas\n",
        "W = 0.0\n",
        "\n",
        "# Hipótesis: Lineal (f(x)=w*x)\n",
        "def forward(x):\n",
        "  return W * x\n",
        "\n",
        "# Loss: MSE\n",
        "def loss(y, y_pred):\n",
        "  return ((y - y_pred) ** 2).mean()\n",
        "\n",
        "# Gradiente\n",
        "# L = MSE = 1/N * (W*x - y) ** 2\n",
        "# dL/dW = 1/N * 2*(W*x - y)\n",
        "def gradient(x, y, y_pred):\n",
        "  return np.dot(2*x, y_pred - y).mean()\n",
        "\n",
        "print(f'Predicción antes de entrenar: f(5) = {forward(5):.3f}')"
      ],
      "execution_count": null,
      "outputs": [
        {
          "output_type": "stream",
          "text": [
            "Predicción antes de entrenar: f(5) = 0.000\n"
          ],
          "name": "stdout"
        }
      ]
    },
    {
      "cell_type": "code",
      "metadata": {
        "colab": {
          "base_uri": "https://localhost:8080/"
        },
        "id": "RpXbCyO7M88G",
        "outputId": "5f473b3d-2fb0-4249-878c-55c375578766"
      },
      "source": [
        "learning_rate = 0.01\n",
        "n_iter = 20\n",
        "\n",
        "for epoch in range(n_iter):\n",
        "  # Predicción\n",
        "  y_pred = forward(X)\n",
        "\n",
        "  # Error\n",
        "  l = loss(y, y_pred)\n",
        "\n",
        "  # Cálculo de gradientes\n",
        "  dw = gradient(X, y, y_pred)\n",
        "\n",
        "  # Actualizar los pesos\n",
        "  W = W - learning_rate * dw\n",
        "\n",
        "  if epoch % 2 == 0:\n",
        "    print(f'epoch {epoch+1}: W = {W:.3f}, loss = {l:.8f}')\n",
        "\n",
        "print(f'Predicción después de entrenar: f(5) = {forward(5):.3f}')"
      ],
      "execution_count": null,
      "outputs": [
        {
          "output_type": "stream",
          "text": [
            "epoch 1: W = 1.200, loss = 30.00000000\n",
            "epoch 3: W = 1.872, loss = 0.76800019\n",
            "epoch 5: W = 1.980, loss = 0.01966083\n",
            "epoch 7: W = 1.997, loss = 0.00050331\n",
            "epoch 9: W = 1.999, loss = 0.00001288\n",
            "epoch 11: W = 2.000, loss = 0.00000033\n",
            "epoch 13: W = 2.000, loss = 0.00000001\n",
            "epoch 15: W = 2.000, loss = 0.00000000\n",
            "epoch 17: W = 2.000, loss = 0.00000000\n",
            "epoch 19: W = 2.000, loss = 0.00000000\n",
            "Predicción después de entrenar: f(5) = 10.000\n"
          ],
          "name": "stdout"
        }
      ]
    },
    {
      "cell_type": "markdown",
      "metadata": {
        "id": "j283I9H9VHR_"
      },
      "source": [
        "## Descenso gradiente con PyTorch"
      ]
    },
    {
      "cell_type": "code",
      "metadata": {
        "colab": {
          "base_uri": "https://localhost:8080/"
        },
        "id": "IZvUgkSQVS15",
        "outputId": "3b7976db-bfa6-4107-c952-9e7400d5682b"
      },
      "source": [
        "import torch\n",
        "\n",
        "X = torch.tensor([1, 2, 3, 4], dtype=torch.float32)\n",
        "y = torch.tensor([2, 4, 6, 8], dtype=torch.float32)\n",
        "W = torch.tensor(0.0, dtype=torch.float32, requires_grad=True)\n",
        "\n",
        "def forward(x):\n",
        "  return x * W\n",
        "\n",
        "def loss(y, y_pred):\n",
        "  return ((y_pred - y) ** 2).mean()\n",
        "\n",
        "print(f'Prediccion antes del entrenamiento: f(5) = {forward(5).item():.3f}')"
      ],
      "execution_count": null,
      "outputs": [
        {
          "output_type": "stream",
          "text": [
            "Prediccion antes del entrenamiento: f(5) = 0.000\n"
          ],
          "name": "stdout"
        }
      ]
    },
    {
      "cell_type": "code",
      "metadata": {
        "colab": {
          "base_uri": "https://localhost:8080/"
        },
        "id": "lqi67vl7WJRZ",
        "outputId": "a8deb13d-6090-4e10-a1f9-ae1a1c2da85a"
      },
      "source": [
        "learning_rate = 0.02\n",
        "n_iter = 30\n",
        "\n",
        "for epoch in range(n_iter):\n",
        "  y_pred = forward(X)\n",
        "  l = loss(y, y_pred)\n",
        "  l.backward()\n",
        "  with torch.no_grad():\n",
        "    W -= learning_rate * W.grad\n",
        "  W.grad.zero_()\n",
        "  if epoch % 3 == 0:\n",
        "    print(f'epoch {epoch}: w = {W.item():.3f}, loss = {l.item():.8f}')\n",
        "\n",
        "print(f'Predicción después de entrenar: f(5) = {forward(5).item():.3f}')"
      ],
      "execution_count": null,
      "outputs": [
        {
          "output_type": "stream",
          "text": [
            "epoch 0: w = 1.734, loss = 1.08300066\n",
            "epoch 3: w = 1.909, loss = 0.12741381\n",
            "epoch 6: w = 1.969, loss = 0.01499011\n",
            "epoch 9: w = 1.989, loss = 0.00176358\n",
            "epoch 12: w = 1.996, loss = 0.00020749\n",
            "epoch 15: w = 1.999, loss = 0.00002441\n",
            "epoch 18: w = 2.000, loss = 0.00000287\n",
            "epoch 21: w = 2.000, loss = 0.00000034\n",
            "epoch 24: w = 2.000, loss = 0.00000004\n",
            "epoch 27: w = 2.000, loss = 0.00000000\n",
            "Predicción después de entrenar: f(5) = 10.000\n"
          ],
          "name": "stdout"
        }
      ]
    },
    {
      "cell_type": "markdown",
      "metadata": {
        "id": "3ZD_jWJAaX42"
      },
      "source": [
        "## Entrenamiento con PyTorch"
      ]
    },
    {
      "cell_type": "code",
      "metadata": {
        "id": "QqvPebjBabj0"
      },
      "source": [
        "import torch\n",
        "import torch.nn as nn\n",
        "import numpy as np\n",
        "import matplotlib.pyplot as plt"
      ],
      "execution_count": null,
      "outputs": []
    },
    {
      "cell_type": "code",
      "metadata": {
        "id": "gHOfJcHRamcV"
      },
      "source": [
        "def gradient_descent(X, y, iters=10):\n",
        "  n_samples, n_features = X.shape\n",
        "  \n",
        "  # Defino la hipotesis\n",
        "  input_size = n_features\n",
        "  output_size = 1\n",
        "  model = nn.Linear(input_size, output_size)\n",
        "\n",
        "  # Función de pérdida y parámetros del optimizador\n",
        "  learning_rate = 0.01\n",
        "  criterion = nn.MSELoss()\n",
        "  optimizer = torch.optim.SGD(model.parameters(), lr=learning_rate)\n",
        "\n",
        "  # Entrenamiento\n",
        "  num_epochs = iters\n",
        "  for epoch in range(num_epochs):\n",
        "    # Calcular predicción\n",
        "    y_pred = model(X)\n",
        "    l = criterion(y_pred, y)\n",
        "\n",
        "    # Actualizar el modelo\n",
        "    l.backward()\n",
        "    optimizer.step()\n",
        "\n",
        "    # Dejar los gradientes en cero\n",
        "    optimizer.zero_grad()\n",
        "\n",
        "    if epoch % 2 == 0:\n",
        "      print(f'epoch {epoch}:  loss = {l.item():.8f}')\n",
        "  \n",
        "  return model\n",
        "\n",
        "def plot_fit(X_numpy, y_numpy, y_pred):\n",
        "  plt.plot(X_numpy, y_numpy, 'ro', label='$Y_{real}$')\n",
        "  plt.plot(X_numpy, y_pred, 'bo', label='$Y_{estimado}$')\n",
        "  plt.xlabel('X - Variable Independiente')\n",
        "  plt.ylabel('Y - Variable Dependiente')\n",
        "  plt.legend(bbox_to_anchor=(1.05, 1), loc='upper left', borderaxespad=0.)\n",
        "  plt.show()"
      ],
      "execution_count": null,
      "outputs": []
    },
    {
      "cell_type": "markdown",
      "metadata": {
        "id": "9vfb5_wUdCH4"
      },
      "source": [
        "## Visualización del descenso de gradiente"
      ]
    },
    {
      "cell_type": "code",
      "metadata": {
        "colab": {
          "base_uri": "https://localhost:8080/",
          "height": 296
        },
        "id": "FsVnIBQDdG8E",
        "outputId": "71af660f-2ed5-4d8e-e8fc-480667337aa8"
      },
      "source": [
        "from sklearn import datasets\n",
        "import matplotlib.pyplot as plt\n",
        "\n",
        "# Cargar datos\n",
        "X_numpy, y_numpy = datasets.make_regression(n_samples=100, n_features=1, noise=40, random_state=42)\n",
        "\n",
        "# Convertir a tensor\n",
        "X = torch.from_numpy(X_numpy.astype(np.float32))\n",
        "y = torch.from_numpy(y_numpy.astype(np.float32))\n",
        "y = y.view(y.shape[0], 1)\n",
        "\n",
        "# Entrenar\n",
        "model = gradient_descent(X, y, iters=1)\n",
        "\n",
        "# Predecir\n",
        "predicted = model(X).detach().numpy()\n",
        "\n",
        "# Graficar\n",
        "plot_fit(X_numpy, y_numpy, predicted)"
      ],
      "execution_count": null,
      "outputs": [
        {
          "output_type": "stream",
          "text": [
            "epoch 0:  loss = 3484.87207031\n"
          ],
          "name": "stdout"
        },
        {
          "output_type": "display_data",
          "data": {
            "image/png": "[encoded data removed]",
            "text/plain": [
              "<Figure size 432x288 with 1 Axes>"
            ]
          },
          "metadata": {
            "tags": [],
            "needs_background": "light"
          }
        }
      ]
    },
    {
      "cell_type": "code",
      "metadata": {
        "colab": {
          "base_uri": "https://localhost:8080/",
          "height": 330
        },
        "id": "vEt2pjqNeXp3",
        "outputId": "606fd873-02ea-4b92-a7ab-38821fe0ec78"
      },
      "source": [
        "model = gradient_descent(X, y, iters=5)\n",
        "predicted = model(X).detach().numpy()\n",
        "plot_fit(X_numpy, y_numpy, predicted)"
      ],
      "execution_count": null,
      "outputs": [
        {
          "output_type": "stream",
          "text": [
            "epoch 0:  loss = 3475.93115234\n",
            "epoch 2:  loss = 3333.97192383\n",
            "epoch 4:  loss = 3201.17553711\n"
          ],
          "name": "stdout"
        },
        {
          "output_type": "display_data",
          "data": {
            "image/png": "[encoded data removed]",
            "text/plain": [
              "<Figure size 432x288 with 1 Axes>"
            ]
          },
          "metadata": {
            "tags": [],
            "needs_background": "light"
          }
        }
      ]
    },
    {
      "cell_type": "code",
      "metadata": {
        "colab": {
          "base_uri": "https://localhost:8080/",
          "height": 449
        },
        "id": "nJsr5Gxge6LD",
        "outputId": "492894f7-202e-4ae8-d273-972c429406ea"
      },
      "source": [
        "model = gradient_descent(X, y, iters=20)\n",
        "predicted = model(X).detach().numpy()\n",
        "plot_fit(X_numpy, y_numpy, predicted)"
      ],
      "execution_count": null,
      "outputs": [
        {
          "output_type": "stream",
          "text": [
            "epoch 0:  loss = 3531.90185547\n",
            "epoch 2:  loss = 3385.20190430\n",
            "epoch 4:  loss = 3248.06054688\n",
            "epoch 6:  loss = 3119.84570312\n",
            "epoch 8:  loss = 2999.96630859\n",
            "epoch 10:  loss = 2887.87182617\n",
            "epoch 12:  loss = 2783.04882812\n",
            "epoch 14:  loss = 2685.01782227\n",
            "epoch 16:  loss = 2593.33227539\n",
            "epoch 18:  loss = 2507.57519531\n"
          ],
          "name": "stdout"
        },
        {
          "output_type": "display_data",
          "data": {
            "image/png": "[encoded data removed]",
            "text/plain": [
              "<Figure size 432x288 with 1 Axes>"
            ]
          },
          "metadata": {
            "tags": [],
            "needs_background": "light"
          }
        }
      ]
    },
    {
      "cell_type": "code",
      "metadata": {
        "colab": {
          "base_uri": "https://localhost:8080/",
          "height": 1000
        },
        "id": "WVE0htT-e-PD",
        "outputId": "13026a7b-ffd0-4ede-a6ee-8104f5381332"
      },
      "source": [
        "model = gradient_descent(X, y, iters=300)\n",
        "predicted = model(X).detach().numpy()\n",
        "plot_fit(X_numpy, y_numpy, predicted)"
      ],
      "execution_count": null,
      "outputs": [
        {
          "output_type": "stream",
          "text": [
            "epoch 0:  loss = 3510.96850586\n",
            "epoch 2:  loss = 3366.56616211\n",
            "epoch 4:  loss = 3231.50073242\n",
            "epoch 6:  loss = 3105.15771484\n",
            "epoch 8:  loss = 2986.96679688\n",
            "epoch 10:  loss = 2876.39355469\n",
            "epoch 12:  loss = 2772.93945312\n",
            "epoch 14:  loss = 2676.13940430\n",
            "epoch 16:  loss = 2585.56030273\n",
            "epoch 18:  loss = 2500.79614258\n",
            "epoch 20:  loss = 2421.46850586\n",
            "epoch 22:  loss = 2347.22363281\n",
            "epoch 24:  loss = 2277.73193359\n",
            "epoch 26:  loss = 2212.68505859\n",
            "epoch 28:  loss = 2151.79443359\n",
            "epoch 30:  loss = 2094.79101562\n",
            "epoch 32:  loss = 2041.42431641\n",
            "epoch 34:  loss = 1991.45861816\n",
            "epoch 36:  loss = 1944.67456055\n",
            "epoch 38:  loss = 1900.86755371\n",
            "epoch 40:  loss = 1859.84533691\n",
            "epoch 42:  loss = 1821.42895508\n",
            "epoch 44:  loss = 1785.45092773\n",
            "epoch 46:  loss = 1751.75439453\n",
            "epoch 48:  loss = 1720.19360352\n",
            "epoch 50:  loss = 1690.63122559\n",
            "epoch 52:  loss = 1662.93969727\n",
            "epoch 54:  loss = 1636.99890137\n",
            "epoch 56:  loss = 1612.69714355\n",
            "epoch 58:  loss = 1589.92968750\n",
            "epoch 60:  loss = 1568.59875488\n",
            "epoch 62:  loss = 1548.61279297\n",
            "epoch 64:  loss = 1529.88598633\n",
            "epoch 66:  loss = 1512.33862305\n",
            "epoch 68:  loss = 1495.89526367\n",
            "epoch 70:  loss = 1480.48583984\n",
            "epoch 72:  loss = 1466.04479980\n",
            "epoch 74:  loss = 1452.51074219\n",
            "epoch 76:  loss = 1439.82629395\n",
            "epoch 78:  loss = 1427.93737793\n",
            "epoch 80:  loss = 1416.79394531\n",
            "epoch 82:  loss = 1406.34863281\n",
            "epoch 84:  loss = 1396.55712891\n",
            "epoch 86:  loss = 1387.37878418\n",
            "epoch 88:  loss = 1378.77441406\n",
            "epoch 90:  loss = 1370.70764160\n",
            "epoch 92:  loss = 1363.14514160\n",
            "epoch 94:  loss = 1356.05480957\n",
            "epoch 96:  loss = 1349.40722656\n",
            "epoch 98:  loss = 1343.17407227\n",
            "epoch 100:  loss = 1337.32983398\n",
            "epoch 102:  loss = 1331.84973145\n",
            "epoch 104:  loss = 1326.71093750\n",
            "epoch 106:  loss = 1321.89208984\n",
            "epoch 108:  loss = 1317.37316895\n",
            "epoch 110:  loss = 1313.13525391\n",
            "epoch 112:  loss = 1309.16113281\n",
            "epoch 114:  loss = 1305.43395996\n",
            "epoch 116:  loss = 1301.93798828\n",
            "epoch 118:  loss = 1298.65942383\n",
            "epoch 120:  loss = 1295.58422852\n",
            "epoch 122:  loss = 1292.69995117\n",
            "epoch 124:  loss = 1289.99450684\n",
            "epoch 126:  loss = 1287.45690918\n",
            "epoch 128:  loss = 1285.07641602\n",
            "epoch 130:  loss = 1282.84350586\n",
            "epoch 132:  loss = 1280.74877930\n",
            "epoch 134:  loss = 1278.78369141\n",
            "epoch 136:  loss = 1276.94042969\n",
            "epoch 138:  loss = 1275.21118164\n",
            "epoch 140:  loss = 1273.58886719\n",
            "epoch 142:  loss = 1272.06652832\n",
            "epoch 144:  loss = 1270.63867188\n",
            "epoch 146:  loss = 1269.29870605\n",
            "epoch 148:  loss = 1268.04187012\n",
            "epoch 150:  loss = 1266.86242676\n",
            "epoch 152:  loss = 1265.75573730\n",
            "epoch 154:  loss = 1264.71740723\n",
            "epoch 156:  loss = 1263.74328613\n",
            "epoch 158:  loss = 1262.82897949\n",
            "epoch 160:  loss = 1261.97119141\n",
            "epoch 162:  loss = 1261.16625977\n",
            "epoch 164:  loss = 1260.41088867\n",
            "epoch 166:  loss = 1259.70202637\n",
            "epoch 168:  loss = 1259.03698730\n",
            "epoch 170:  loss = 1258.41259766\n",
            "epoch 172:  loss = 1257.82690430\n",
            "epoch 174:  loss = 1257.27709961\n",
            "epoch 176:  loss = 1256.76123047\n",
            "epoch 178:  loss = 1256.27722168\n",
            "epoch 180:  loss = 1255.82263184\n",
            "epoch 182:  loss = 1255.39624023\n",
            "epoch 184:  loss = 1254.99597168\n",
            "epoch 186:  loss = 1254.62036133\n",
            "epoch 188:  loss = 1254.26782227\n",
            "epoch 190:  loss = 1253.93688965\n",
            "epoch 192:  loss = 1253.62622070\n",
            "epoch 194:  loss = 1253.33483887\n",
            "epoch 196:  loss = 1253.06127930\n",
            "epoch 198:  loss = 1252.80432129\n",
            "epoch 200:  loss = 1252.56335449\n",
            "epoch 202:  loss = 1252.33703613\n",
            "epoch 204:  loss = 1252.12475586\n",
            "epoch 206:  loss = 1251.92541504\n",
            "epoch 208:  loss = 1251.73828125\n",
            "epoch 210:  loss = 1251.56262207\n",
            "epoch 212:  loss = 1251.39770508\n",
            "epoch 214:  loss = 1251.24291992\n",
            "epoch 216:  loss = 1251.09765625\n",
            "epoch 218:  loss = 1250.96130371\n",
            "epoch 220:  loss = 1250.83325195\n",
            "epoch 222:  loss = 1250.71313477\n",
            "epoch 224:  loss = 1250.60021973\n",
            "epoch 226:  loss = 1250.49438477\n",
            "epoch 228:  loss = 1250.39489746\n",
            "epoch 230:  loss = 1250.30163574\n",
            "epoch 232:  loss = 1250.21411133\n",
            "epoch 234:  loss = 1250.13159180\n",
            "epoch 236:  loss = 1250.05456543\n",
            "epoch 238:  loss = 1249.98205566\n",
            "epoch 240:  loss = 1249.91394043\n",
            "epoch 242:  loss = 1249.84997559\n",
            "epoch 244:  loss = 1249.79003906\n",
            "epoch 246:  loss = 1249.73376465\n",
            "epoch 248:  loss = 1249.68090820\n",
            "epoch 250:  loss = 1249.63122559\n",
            "epoch 252:  loss = 1249.58459473\n",
            "epoch 254:  loss = 1249.54089355\n",
            "epoch 256:  loss = 1249.49987793\n",
            "epoch 258:  loss = 1249.46118164\n",
            "epoch 260:  loss = 1249.42504883\n",
            "epoch 262:  loss = 1249.39099121\n",
            "epoch 264:  loss = 1249.35900879\n",
            "epoch 266:  loss = 1249.32910156\n",
            "epoch 268:  loss = 1249.30090332\n",
            "epoch 270:  loss = 1249.27465820\n",
            "epoch 272:  loss = 1249.24963379\n",
            "epoch 274:  loss = 1249.22644043\n",
            "epoch 276:  loss = 1249.20458984\n",
            "epoch 278:  loss = 1249.18395996\n",
            "epoch 280:  loss = 1249.16479492\n",
            "epoch 282:  loss = 1249.14672852\n",
            "epoch 284:  loss = 1249.12963867\n",
            "epoch 286:  loss = 1249.11376953\n",
            "epoch 288:  loss = 1249.09863281\n",
            "epoch 290:  loss = 1249.08459473\n",
            "epoch 292:  loss = 1249.07141113\n",
            "epoch 294:  loss = 1249.05895996\n",
            "epoch 296:  loss = 1249.04736328\n",
            "epoch 298:  loss = 1249.03637695\n"
          ],
          "name": "stdout"
        },
        {
          "output_type": "display_data",
          "data": {
            "image/png": "[encoded data removed]",
            "text/plain": [
              "<Figure size 432x288 with 1 Axes>"
            ]
          },
          "metadata": {
            "tags": [],
            "needs_background": "light"
          }
        }
      ]
    }
  ]
}